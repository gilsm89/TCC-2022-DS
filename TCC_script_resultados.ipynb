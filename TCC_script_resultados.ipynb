{
 "cells": [
  {
   "cell_type": "markdown",
   "metadata": {
    "ExecuteTime": {
     "end_time": "2020-03-27T13:40:08.261226Z",
     "start_time": "2020-03-27T13:40:08.259226Z"
    }
   },
   "source": [
    "# Libs"
   ]
  },
  {
   "cell_type": "code",
   "execution_count": 1,
   "metadata": {
    "ExecuteTime": {
     "end_time": "2022-08-11T09:05:43.217924Z",
     "start_time": "2022-08-11T09:05:41.600116Z"
    }
   },
   "outputs": [],
   "source": [
    "import pandas as pd\n",
    "import matplotlib.pyplot as plt\n",
    "import numpy as np\n",
    "from sklearn.feature_extraction.text import CountVectorizer\n",
    "from sklearn.model_selection import train_test_split\n",
    "from sklearn.linear_model import LogisticRegression\n",
    "from statistics import mean \n",
    "import re\n",
    "pd.options.mode.chained_assignment = None  # default='warn'\n"
   ]
  },
  {
   "cell_type": "markdown",
   "metadata": {
    "ExecuteTime": {
     "end_time": "2022-08-11T08:45:27.589059Z",
     "start_time": "2022-08-11T08:45:27.573054Z"
    }
   },
   "source": [
    "# Carregar DataFrame"
   ]
  },
  {
   "cell_type": "code",
   "execution_count": 2,
   "metadata": {
    "ExecuteTime": {
     "end_time": "2022-08-11T09:05:43.483058Z",
     "start_time": "2022-08-11T09:05:43.218615Z"
    }
   },
   "outputs": [],
   "source": [
    "df_all = pd.read_parquet('TCC_input')"
   ]
  },
  {
   "cell_type": "markdown",
   "metadata": {},
   "source": [
    "# trata palavras"
   ]
  },
  {
   "cell_type": "code",
   "execution_count": 3,
   "metadata": {
    "ExecuteTime": {
     "end_time": "2022-08-11T09:05:44.141833Z",
     "start_time": "2022-08-11T09:05:43.483058Z"
    }
   },
   "outputs": [],
   "source": [
    "df_all['title_trat'] = df_all['title'].str.lower()\n",
    "\n",
    "df_all['title_trat'] = [re.sub(r'[^a-zA-Z0-9 ]',r'',x) for x in df_all['title_trat']]"
   ]
  },
  {
   "cell_type": "markdown",
   "metadata": {},
   "source": [
    "# stop words\n"
   ]
  },
  {
   "cell_type": "code",
   "execution_count": 4,
   "metadata": {
    "ExecuteTime": {
     "end_time": "2022-08-11T09:05:57.101318Z",
     "start_time": "2022-08-11T09:05:44.141833Z"
    }
   },
   "outputs": [],
   "source": [
    "list_total = df_all.title_trat.str.split(expand=True).stack().value_counts().reset_index()\n",
    "len(list_total)\n",
    "\n",
    "list_total = list(list_total['index'])"
   ]
  },
  {
   "cell_type": "markdown",
   "metadata": {
    "ExecuteTime": {
     "end_time": "2022-02-22T18:43:04.532717Z",
     "start_time": "2022-02-22T18:43:04.518135Z"
    }
   },
   "source": [
    "## aparedem muito por categoria secundaria"
   ]
  },
  {
   "cell_type": "code",
   "execution_count": 5,
   "metadata": {
    "ExecuteTime": {
     "end_time": "2022-08-11T09:06:04.040804Z",
     "start_time": "2022-08-11T09:05:57.101318Z"
    }
   },
   "outputs": [],
   "source": [
    "\n",
    "df_count= pd.DataFrame(columns=['Palavra', 'Categ'])\n",
    "for cat_ in df_all['category_secondary'].unique():\n",
    "    df_cat = df_all[df_all['category_secondary']==cat_]\n",
    "    df_c = df_cat.title_trat.str.split(expand=True).stack().value_counts().reset_index()\n",
    "\n",
    "    df_c.columns = ['Palavra', 'Freq'] \n",
    "\n",
    "    total = len(df_cat)\n",
    "    df_c['Freq_%'] = df_c['Freq']/total\n",
    "\n",
    "    aux= df_c[df_c['Freq_%']> 0.01][['Palavra']]\n",
    "    aux['Categ'] = cat_\n",
    "    df_count = df_count.append(aux)\n",
    "a = df_count.groupby(['Palavra']).count().reset_index()"
   ]
  },
  {
   "cell_type": "code",
   "execution_count": 6,
   "metadata": {
    "ExecuteTime": {
     "end_time": "2022-08-11T09:06:04.208805Z",
     "start_time": "2022-08-11T09:06:04.040804Z"
    }
   },
   "outputs": [
    {
     "data": {
      "image/png": "[encoded data removed]",
      "text/plain": [
       "<Figure size 432x288 with 1 Axes>"
      ]
     },
     "metadata": {
      "needs_background": "light"
     },
     "output_type": "display_data"
    }
   ],
   "source": [
    "plt.hist(a['Categ'])  # density=False would make counts\n",
    "plt.ylabel('Casos')\n",
    "plt.xlabel('Qtd de Categorias com freq > que créterio');"
   ]
  },
  {
   "cell_type": "code",
   "execution_count": 7,
   "metadata": {
    "ExecuteTime": {
     "end_time": "2022-08-11T09:06:04.224804Z",
     "start_time": "2022-08-11T09:06:04.208805Z"
    }
   },
   "outputs": [
    {
     "data": {
      "text/html": [
       "<div>\n",
       "<style scoped>\n",
       "    .dataframe tbody tr th:only-of-type {\n",
       "        vertical-align: middle;\n",
       "    }\n",
       "\n",
       "    .dataframe tbody tr th {\n",
       "        vertical-align: top;\n",
       "    }\n",
       "\n",
       "    .dataframe thead th {\n",
       "        text-align: right;\n",
       "    }\n",
       "</style>\n",
       "<table border=\"1\" class=\"dataframe\">\n",
       "  <thead>\n",
       "    <tr style=\"text-align: right;\">\n",
       "      <th></th>\n",
       "      <th>Palavra</th>\n",
       "      <th>Categ</th>\n",
       "    </tr>\n",
       "  </thead>\n",
       "  <tbody>\n",
       "    <tr>\n",
       "      <th>406</th>\n",
       "      <td>size</td>\n",
       "      <td>6</td>\n",
       "    </tr>\n",
       "    <tr>\n",
       "      <th>501</th>\n",
       "      <td>with</td>\n",
       "      <td>6</td>\n",
       "    </tr>\n",
       "    <tr>\n",
       "      <th>35</th>\n",
       "      <td>and</td>\n",
       "      <td>6</td>\n",
       "    </tr>\n",
       "    <tr>\n",
       "      <th>303</th>\n",
       "      <td>new</td>\n",
       "      <td>6</td>\n",
       "    </tr>\n",
       "    <tr>\n",
       "      <th>86</th>\n",
       "      <td>by</td>\n",
       "      <td>6</td>\n",
       "    </tr>\n",
       "    <tr>\n",
       "      <th>34</th>\n",
       "      <td>amp</td>\n",
       "      <td>6</td>\n",
       "    </tr>\n",
       "    <tr>\n",
       "      <th>10</th>\n",
       "      <td>2</td>\n",
       "      <td>6</td>\n",
       "    </tr>\n",
       "    <tr>\n",
       "      <th>461</th>\n",
       "      <td>the</td>\n",
       "      <td>6</td>\n",
       "    </tr>\n",
       "    <tr>\n",
       "      <th>219</th>\n",
       "      <td>in</td>\n",
       "      <td>6</td>\n",
       "    </tr>\n",
       "    <tr>\n",
       "      <th>69</th>\n",
       "      <td>black</td>\n",
       "      <td>6</td>\n",
       "    </tr>\n",
       "    <tr>\n",
       "      <th>14</th>\n",
       "      <td>3</td>\n",
       "      <td>5</td>\n",
       "    </tr>\n",
       "    <tr>\n",
       "      <th>73</th>\n",
       "      <td>blue</td>\n",
       "      <td>5</td>\n",
       "    </tr>\n",
       "    <tr>\n",
       "      <th>503</th>\n",
       "      <td>womens</td>\n",
       "      <td>5</td>\n",
       "    </tr>\n",
       "    <tr>\n",
       "      <th>250</th>\n",
       "      <td>large</td>\n",
       "      <td>5</td>\n",
       "    </tr>\n",
       "    <tr>\n",
       "      <th>312</th>\n",
       "      <td>of</td>\n",
       "      <td>5</td>\n",
       "    </tr>\n",
       "    <tr>\n",
       "      <th>392</th>\n",
       "      <td>set</td>\n",
       "      <td>5</td>\n",
       "    </tr>\n",
       "    <tr>\n",
       "      <th>285</th>\n",
       "      <td>mens</td>\n",
       "      <td>5</td>\n",
       "    </tr>\n",
       "    <tr>\n",
       "      <th>198</th>\n",
       "      <td>green</td>\n",
       "      <td>5</td>\n",
       "    </tr>\n",
       "    <tr>\n",
       "      <th>178</th>\n",
       "      <td>for</td>\n",
       "      <td>5</td>\n",
       "    </tr>\n",
       "    <tr>\n",
       "      <th>364</th>\n",
       "      <td>red</td>\n",
       "      <td>5</td>\n",
       "    </tr>\n",
       "  </tbody>\n",
       "</table>\n",
       "</div>"
      ],
      "text/plain": [
       "    Palavra  Categ\n",
       "406    size      6\n",
       "501    with      6\n",
       "35      and      6\n",
       "303     new      6\n",
       "86       by      6\n",
       "34      amp      6\n",
       "10        2      6\n",
       "461     the      6\n",
       "219      in      6\n",
       "69    black      6\n",
       "14        3      5\n",
       "73     blue      5\n",
       "503  womens      5\n",
       "250   large      5\n",
       "312      of      5\n",
       "392     set      5\n",
       "285    mens      5\n",
       "198   green      5\n",
       "178     for      5\n",
       "364     red      5"
      ]
     },
     "execution_count": 7,
     "metadata": {},
     "output_type": "execute_result"
    }
   ],
   "source": [
    "a.sort_values('Categ',ascending= False).head(20)"
   ]
  },
  {
   "cell_type": "code",
   "execution_count": 8,
   "metadata": {
    "ExecuteTime": {
     "end_time": "2022-08-11T09:06:04.240806Z",
     "start_time": "2022-08-11T09:06:04.224804Z"
    }
   },
   "outputs": [
    {
     "name": "stdout",
     "output_type": "stream",
     "text": [
      "29\n"
     ]
    },
    {
     "data": {
      "text/html": [
       "<div>\n",
       "<style scoped>\n",
       "    .dataframe tbody tr th:only-of-type {\n",
       "        vertical-align: middle;\n",
       "    }\n",
       "\n",
       "    .dataframe tbody tr th {\n",
       "        vertical-align: top;\n",
       "    }\n",
       "\n",
       "    .dataframe thead th {\n",
       "        text-align: right;\n",
       "    }\n",
       "</style>\n",
       "<table border=\"1\" class=\"dataframe\">\n",
       "  <thead>\n",
       "    <tr style=\"text-align: right;\">\n",
       "      <th></th>\n",
       "      <th>Palavra</th>\n",
       "      <th>Categ</th>\n",
       "    </tr>\n",
       "  </thead>\n",
       "  <tbody>\n",
       "    <tr>\n",
       "      <th>10</th>\n",
       "      <td>2</td>\n",
       "      <td>6</td>\n",
       "    </tr>\n",
       "    <tr>\n",
       "      <th>501</th>\n",
       "      <td>with</td>\n",
       "      <td>6</td>\n",
       "    </tr>\n",
       "    <tr>\n",
       "      <th>34</th>\n",
       "      <td>amp</td>\n",
       "      <td>6</td>\n",
       "    </tr>\n",
       "    <tr>\n",
       "      <th>35</th>\n",
       "      <td>and</td>\n",
       "      <td>6</td>\n",
       "    </tr>\n",
       "    <tr>\n",
       "      <th>69</th>\n",
       "      <td>black</td>\n",
       "      <td>6</td>\n",
       "    </tr>\n",
       "    <tr>\n",
       "      <th>461</th>\n",
       "      <td>the</td>\n",
       "      <td>6</td>\n",
       "    </tr>\n",
       "    <tr>\n",
       "      <th>406</th>\n",
       "      <td>size</td>\n",
       "      <td>6</td>\n",
       "    </tr>\n",
       "    <tr>\n",
       "      <th>86</th>\n",
       "      <td>by</td>\n",
       "      <td>6</td>\n",
       "    </tr>\n",
       "    <tr>\n",
       "      <th>219</th>\n",
       "      <td>in</td>\n",
       "      <td>6</td>\n",
       "    </tr>\n",
       "    <tr>\n",
       "      <th>303</th>\n",
       "      <td>new</td>\n",
       "      <td>6</td>\n",
       "    </tr>\n",
       "    <tr>\n",
       "      <th>285</th>\n",
       "      <td>mens</td>\n",
       "      <td>5</td>\n",
       "    </tr>\n",
       "    <tr>\n",
       "      <th>503</th>\n",
       "      <td>womens</td>\n",
       "      <td>5</td>\n",
       "    </tr>\n",
       "    <tr>\n",
       "      <th>392</th>\n",
       "      <td>set</td>\n",
       "      <td>5</td>\n",
       "    </tr>\n",
       "    <tr>\n",
       "      <th>364</th>\n",
       "      <td>red</td>\n",
       "      <td>5</td>\n",
       "    </tr>\n",
       "    <tr>\n",
       "      <th>312</th>\n",
       "      <td>of</td>\n",
       "      <td>5</td>\n",
       "    </tr>\n",
       "    <tr>\n",
       "      <th>250</th>\n",
       "      <td>large</td>\n",
       "      <td>5</td>\n",
       "    </tr>\n",
       "    <tr>\n",
       "      <th>14</th>\n",
       "      <td>3</td>\n",
       "      <td>5</td>\n",
       "    </tr>\n",
       "    <tr>\n",
       "      <th>198</th>\n",
       "      <td>green</td>\n",
       "      <td>5</td>\n",
       "    </tr>\n",
       "    <tr>\n",
       "      <th>178</th>\n",
       "      <td>for</td>\n",
       "      <td>5</td>\n",
       "    </tr>\n",
       "    <tr>\n",
       "      <th>73</th>\n",
       "      <td>blue</td>\n",
       "      <td>5</td>\n",
       "    </tr>\n",
       "    <tr>\n",
       "      <th>252</th>\n",
       "      <td>leather</td>\n",
       "      <td>4</td>\n",
       "    </tr>\n",
       "    <tr>\n",
       "      <th>320</th>\n",
       "      <td>pack</td>\n",
       "      <td>4</td>\n",
       "    </tr>\n",
       "    <tr>\n",
       "      <th>336</th>\n",
       "      <td>pink</td>\n",
       "      <td>4</td>\n",
       "    </tr>\n",
       "    <tr>\n",
       "      <th>118</th>\n",
       "      <td>color</td>\n",
       "      <td>4</td>\n",
       "    </tr>\n",
       "    <tr>\n",
       "      <th>84</th>\n",
       "      <td>brown</td>\n",
       "      <td>4</td>\n",
       "    </tr>\n",
       "    <tr>\n",
       "      <th>498</th>\n",
       "      <td>white</td>\n",
       "      <td>4</td>\n",
       "    </tr>\n",
       "    <tr>\n",
       "      <th>20</th>\n",
       "      <td>6</td>\n",
       "      <td>4</td>\n",
       "    </tr>\n",
       "    <tr>\n",
       "      <th>19</th>\n",
       "      <td>5</td>\n",
       "      <td>4</td>\n",
       "    </tr>\n",
       "    <tr>\n",
       "      <th>511</th>\n",
       "      <td>york</td>\n",
       "      <td>4</td>\n",
       "    </tr>\n",
       "  </tbody>\n",
       "</table>\n",
       "</div>"
      ],
      "text/plain": [
       "     Palavra  Categ\n",
       "10         2      6\n",
       "501     with      6\n",
       "34       amp      6\n",
       "35       and      6\n",
       "69     black      6\n",
       "461      the      6\n",
       "406     size      6\n",
       "86        by      6\n",
       "219       in      6\n",
       "303      new      6\n",
       "285     mens      5\n",
       "503   womens      5\n",
       "392      set      5\n",
       "364      red      5\n",
       "312       of      5\n",
       "250    large      5\n",
       "14         3      5\n",
       "198    green      5\n",
       "178      for      5\n",
       "73      blue      5\n",
       "252  leather      4\n",
       "320     pack      4\n",
       "336     pink      4\n",
       "118    color      4\n",
       "84     brown      4\n",
       "498    white      4\n",
       "20         6      4\n",
       "19         5      4\n",
       "511     york      4"
      ]
     },
     "execution_count": 8,
     "metadata": {},
     "output_type": "execute_result"
    }
   ],
   "source": [
    "a2 = a[a.Categ>3 ].sort_values('Categ',ascending= False)\n",
    "print(len(a2))\n",
    "a2"
   ]
  },
  {
   "cell_type": "code",
   "execution_count": 9,
   "metadata": {
    "ExecuteTime": {
     "end_time": "2022-08-11T09:06:04.256805Z",
     "start_time": "2022-08-11T09:06:04.240806Z"
    }
   },
   "outputs": [],
   "source": [
    "stop_words_fim = list(a[a.Categ>3]['Palavra'])"
   ]
  },
  {
   "cell_type": "code",
   "execution_count": 10,
   "metadata": {
    "ExecuteTime": {
     "end_time": "2022-08-11T09:06:04.272806Z",
     "start_time": "2022-08-11T09:06:04.256805Z"
    }
   },
   "outputs": [
    {
     "name": "stdout",
     "output_type": "stream",
     "text": [
      "29\n"
     ]
    },
    {
     "data": {
      "text/plain": [
       "['2',\n",
       " '3',\n",
       " '5',\n",
       " '6',\n",
       " 'amp',\n",
       " 'and',\n",
       " 'black',\n",
       " 'blue',\n",
       " 'brown',\n",
       " 'by',\n",
       " 'color',\n",
       " 'for',\n",
       " 'green',\n",
       " 'in',\n",
       " 'large',\n",
       " 'leather',\n",
       " 'mens',\n",
       " 'new',\n",
       " 'of',\n",
       " 'pack',\n",
       " 'pink',\n",
       " 'red',\n",
       " 'set',\n",
       " 'size',\n",
       " 'the',\n",
       " 'white',\n",
       " 'with',\n",
       " 'womens',\n",
       " 'york']"
      ]
     },
     "execution_count": 10,
     "metadata": {},
     "output_type": "execute_result"
    }
   ],
   "source": [
    "print(len(stop_words_fim))\n",
    "stop_words_fim"
   ]
  },
  {
   "cell_type": "markdown",
   "metadata": {},
   "source": [
    "## palavras q parecem  pouco"
   ]
  },
  {
   "cell_type": "code",
   "execution_count": 11,
   "metadata": {
    "ExecuteTime": {
     "end_time": "2022-08-11T09:06:17.513751Z",
     "start_time": "2022-08-11T09:06:04.272806Z"
    }
   },
   "outputs": [
    {
     "name": "stdout",
     "output_type": "stream",
     "text": [
      "128691\n"
     ]
    }
   ],
   "source": [
    "df_c = df_all.title_trat.str.split(expand=True).stack().value_counts().reset_index()\n",
    "df_c.columns = ['Palavra', 'Freq'] \n",
    "total = len(df_cat)\n",
    "df_c['Freq_%'] = df_c['Freq']/total\n",
    "aux= df_c[df_c['Freq']< 20][['Palavra']]\n",
    "print(len(aux))"
   ]
  },
  {
   "cell_type": "code",
   "execution_count": 12,
   "metadata": {
    "ExecuteTime": {
     "end_time": "2022-08-11T09:06:17.554303Z",
     "start_time": "2022-08-11T09:06:17.513751Z"
    }
   },
   "outputs": [],
   "source": [
    "list3 = list(aux['Palavra'])"
   ]
  },
  {
   "cell_type": "markdown",
   "metadata": {},
   "source": [
    "## somente numerico"
   ]
  },
  {
   "cell_type": "code",
   "execution_count": 13,
   "metadata": {
    "ExecuteTime": {
     "end_time": "2022-08-11T09:06:17.570216Z",
     "start_time": "2022-08-11T09:06:17.554303Z"
    }
   },
   "outputs": [
    {
     "data": {
      "text/plain": [
       "2.8598"
      ]
     },
     "execution_count": 13,
     "metadata": {},
     "output_type": "execute_result"
    }
   ],
   "source": [
    "len(list3)/total"
   ]
  },
  {
   "cell_type": "code",
   "execution_count": 14,
   "metadata": {
    "ExecuteTime": {
     "end_time": "2022-08-11T09:06:17.648631Z",
     "start_time": "2022-08-11T09:06:17.570216Z"
    }
   },
   "outputs": [
    {
     "data": {
      "text/plain": [
       "9841"
      ]
     },
     "execution_count": 14,
     "metadata": {},
     "output_type": "execute_result"
    }
   ],
   "source": [
    "integers = [item for item in list_total if  item.isdigit()]\n",
    "len(integers)"
   ]
  },
  {
   "cell_type": "markdown",
   "metadata": {},
   "source": [
    "## somente 2 char"
   ]
  },
  {
   "cell_type": "code",
   "execution_count": 15,
   "metadata": {
    "ExecuteTime": {
     "end_time": "2022-08-11T09:06:17.680154Z",
     "start_time": "2022-08-11T09:06:17.648631Z"
    }
   },
   "outputs": [
    {
     "data": {
      "text/plain": [
       "1054"
      ]
     },
     "execution_count": 15,
     "metadata": {},
     "output_type": "execute_result"
    }
   ],
   "source": [
    "char2 = [item for item in list_total if  len(item)<=2]\n",
    "len(char2)"
   ]
  },
  {
   "cell_type": "code",
   "execution_count": 16,
   "metadata": {
    "ExecuteTime": {
     "end_time": "2022-08-11T09:06:17.760739Z",
     "start_time": "2022-08-11T09:06:17.680154Z"
    }
   },
   "outputs": [
    {
     "data": {
      "text/plain": [
       "129351"
      ]
     },
     "execution_count": 16,
     "metadata": {},
     "output_type": "execute_result"
    }
   ],
   "source": [
    "stop_words_total = list(set(char2+integers+list3+stop_words_fim))\n",
    "len(stop_words_total)"
   ]
  },
  {
   "cell_type": "code",
   "execution_count": 17,
   "metadata": {
    "ExecuteTime": {
     "end_time": "2022-08-11T09:06:17.840429Z",
     "start_time": "2022-08-11T09:06:17.760739Z"
    }
   },
   "outputs": [
    {
     "data": {
      "text/plain": [
       "8714"
      ]
     },
     "execution_count": 17,
     "metadata": {},
     "output_type": "execute_result"
    }
   ],
   "source": [
    "lista_final = list(set(list_total) - set(stop_words_total))\n",
    "len(lista_final)"
   ]
  },
  {
   "cell_type": "markdown",
   "metadata": {},
   "source": [
    "# Modelos"
   ]
  },
  {
   "cell_type": "markdown",
   "metadata": {},
   "source": [
    "## Prepara"
   ]
  },
  {
   "cell_type": "code",
   "execution_count": 18,
   "metadata": {
    "ExecuteTime": {
     "end_time": "2022-08-11T09:06:17.856439Z",
     "start_time": "2022-08-11T09:06:17.840429Z"
    }
   },
   "outputs": [],
   "source": [
    "matrix = CountVectorizer(strip_accents  = 'unicode', lowercase  = True, vocabulary =lista_final, stop_words='english'\n",
    "                         ,max_features= 10000)"
   ]
  },
  {
   "cell_type": "code",
   "execution_count": 19,
   "metadata": {
    "ExecuteTime": {
     "end_time": "2022-08-11T09:06:17.904186Z",
     "start_time": "2022-08-11T09:06:17.856439Z"
    }
   },
   "outputs": [
    {
     "name": "stdout",
     "output_type": "stream",
     "text": [
      "213555\n",
      "56445\n"
     ]
    }
   ],
   "source": [
    "df_all['Treino'] = np.where(np.random.randint(0,100, size=len(df_all))/100<=0.2,0,1)\n",
    "df_all['Treino'].mean()\n",
    "\n",
    "df_treino = df_all[df_all['Treino']==1]\n",
    "print(len(df_treino))\n",
    "df_teste = df_all[df_all['Treino']==0]\n",
    "print(len(df_teste))"
   ]
  },
  {
   "cell_type": "markdown",
   "metadata": {},
   "source": [
    "### Modelo Direto -> category_secondary"
   ]
  },
  {
   "cell_type": "code",
   "execution_count": 20,
   "metadata": {
    "ExecuteTime": {
     "end_time": "2022-08-11T09:06:20.638896Z",
     "start_time": "2022-08-11T09:06:17.904186Z"
    }
   },
   "outputs": [
    {
     "name": "stdout",
     "output_type": "stream",
     "text": [
      "213555\n",
      "56445\n",
      "56445\n",
      "8714\n",
      "['item_Clothing' 'item_Jewelry' 'item_Shoes' 'item_Sport_Clothing'\n",
      " 'item_Accessories' 'item_Hunting']\n"
     ]
    }
   ],
   "source": [
    "X_treino_i = matrix.fit_transform(df_treino['title'])\n",
    "print(X_treino_i.shape[0])\n",
    "Y_treino_i =  df_treino['category_secondary']\n",
    "print(len(df_teste['title']))\n",
    "X_teste_i = matrix.fit_transform(df_teste['title'])\n",
    "print(X_teste_i.shape[0])\n",
    "Y_teste_i =  df_teste['category_secondary']\n",
    "#I =  df_all.index\n",
    "\n",
    "palavras = matrix.get_feature_names()\n",
    "print(len(palavras))\n",
    "\n",
    "lista_cat = Y_treino_i.unique()\n",
    "print(lista_cat)"
   ]
  },
  {
   "cell_type": "code",
   "execution_count": 21,
   "metadata": {
    "ExecuteTime": {
     "end_time": "2022-08-11T09:06:23.550220Z",
     "start_time": "2022-08-11T09:06:20.638896Z"
    }
   },
   "outputs": [
    {
     "name": "stdout",
     "output_type": "stream",
     "text": [
      "1 - item_Clothing\n",
      "      Acuracia: 91%\n",
      "2 - item_Jewelry\n",
      "      Acuracia: 97%\n",
      "3 - item_Shoes\n",
      "      Acuracia: 97%\n",
      "4 - item_Sport_Clothing\n",
      "      Acuracia: 90%\n",
      "5 - item_Accessories\n",
      "      Acuracia: 95%\n",
      "6 - item_Hunting\n",
      "      Acuracia: 97%\n"
     ]
    }
   ],
   "source": [
    "i = 0 \n",
    "lr_cat = []   \n",
    "y_treino = []\n",
    "y_teste = []\n",
    "y_pred = []\n",
    "\n",
    "for cat in lista_cat:\n",
    "\n",
    "    print(str(i+1)+' - '+cat)\n",
    "\n",
    "    y_treino.append(np.where(Y_treino_i == cat,1,0))\n",
    "    y_teste.append(np.where(Y_teste_i == cat,1,0))\n",
    "\n",
    "    lr_cat.append(LogisticRegression(fit_intercept = False, C=0.5,penalty='l1',solver='liblinear'))#, 'saga',‘liblinear’))\n",
    "    lr_cat[i].fit(X_treino_i,y_treino[i])\n",
    "    \n",
    " \n",
    "    y_pred.append(lr_cat[i].predict_proba(X_teste_i)[:,1])\n",
    "    \n",
    "    print('      Acuracia: ' + \"{0:.00%}\".format(1 - mean(abs(y_pred[i] - y_teste[i])))) \n",
    "    \n",
    "    i = i +1\n"
   ]
  },
  {
   "cell_type": "code",
   "execution_count": 22,
   "metadata": {
    "ExecuteTime": {
     "end_time": "2022-08-11T09:06:23.653898Z",
     "start_time": "2022-08-11T09:06:23.550220Z"
    },
    "scrolled": false
   },
   "outputs": [
    {
     "name": "stdout",
     "output_type": "stream",
     "text": [
      "item_Clothing\n"
     ]
    },
    {
     "data": {
      "text/html": [
       "<div>\n",
       "<style scoped>\n",
       "    .dataframe tbody tr th:only-of-type {\n",
       "        vertical-align: middle;\n",
       "    }\n",
       "\n",
       "    .dataframe tbody tr th {\n",
       "        vertical-align: top;\n",
       "    }\n",
       "\n",
       "    .dataframe thead th {\n",
       "        text-align: right;\n",
       "    }\n",
       "</style>\n",
       "<table border=\"1\" class=\"dataframe\">\n",
       "  <thead>\n",
       "    <tr style=\"text-align: right;\">\n",
       "      <th></th>\n",
       "      <th>var</th>\n",
       "      <th>coef</th>\n",
       "    </tr>\n",
       "  </thead>\n",
       "  <tbody>\n",
       "    <tr>\n",
       "      <th>1992</th>\n",
       "      <td>sandal</td>\n",
       "      <td>-6.775988</td>\n",
       "    </tr>\n",
       "    <tr>\n",
       "      <th>155</th>\n",
       "      <td>pump</td>\n",
       "      <td>-6.427387</td>\n",
       "    </tr>\n",
       "    <tr>\n",
       "      <th>4505</th>\n",
       "      <td>earrings</td>\n",
       "      <td>-5.681600</td>\n",
       "    </tr>\n",
       "    <tr>\n",
       "      <th>6840</th>\n",
       "      <td>knife</td>\n",
       "      <td>-5.367147</td>\n",
       "    </tr>\n",
       "    <tr>\n",
       "      <th>5020</th>\n",
       "      <td>sneaker</td>\n",
       "      <td>-5.084037</td>\n",
       "    </tr>\n",
       "  </tbody>\n",
       "</table>\n",
       "</div>"
      ],
      "text/plain": [
       "           var      coef\n",
       "1992    sandal -6.775988\n",
       "155       pump -6.427387\n",
       "4505  earrings -5.681600\n",
       "6840     knife -5.367147\n",
       "5020   sneaker -5.084037"
      ]
     },
     "metadata": {},
     "output_type": "display_data"
    },
    {
     "data": {
      "text/html": [
       "<div>\n",
       "<style scoped>\n",
       "    .dataframe tbody tr th:only-of-type {\n",
       "        vertical-align: middle;\n",
       "    }\n",
       "\n",
       "    .dataframe tbody tr th {\n",
       "        vertical-align: top;\n",
       "    }\n",
       "\n",
       "    .dataframe thead th {\n",
       "        text-align: right;\n",
       "    }\n",
       "</style>\n",
       "<table border=\"1\" class=\"dataframe\">\n",
       "  <thead>\n",
       "    <tr style=\"text-align: right;\">\n",
       "      <th></th>\n",
       "      <th>var</th>\n",
       "      <th>coef</th>\n",
       "    </tr>\n",
       "  </thead>\n",
       "  <tbody>\n",
       "    <tr>\n",
       "      <th>1374</th>\n",
       "      <td>gown</td>\n",
       "      <td>4.126645</td>\n",
       "    </tr>\n",
       "    <tr>\n",
       "      <th>5085</th>\n",
       "      <td>jean</td>\n",
       "      <td>3.589658</td>\n",
       "    </tr>\n",
       "    <tr>\n",
       "      <th>5237</th>\n",
       "      <td>swimsuit</td>\n",
       "      <td>3.369717</td>\n",
       "    </tr>\n",
       "    <tr>\n",
       "      <th>516</th>\n",
       "      <td>bra</td>\n",
       "      <td>3.223727</td>\n",
       "    </tr>\n",
       "    <tr>\n",
       "      <th>5552</th>\n",
       "      <td>sarong</td>\n",
       "      <td>2.979359</td>\n",
       "    </tr>\n",
       "  </tbody>\n",
       "</table>\n",
       "</div>"
      ],
      "text/plain": [
       "           var      coef\n",
       "1374      gown  4.126645\n",
       "5085      jean  3.589658\n",
       "5237  swimsuit  3.369717\n",
       "516        bra  3.223727\n",
       "5552    sarong  2.979359"
      ]
     },
     "metadata": {},
     "output_type": "display_data"
    },
    {
     "name": "stdout",
     "output_type": "stream",
     "text": [
      "item_Jewelry\n"
     ]
    },
    {
     "data": {
      "text/html": [
       "<div>\n",
       "<style scoped>\n",
       "    .dataframe tbody tr th:only-of-type {\n",
       "        vertical-align: middle;\n",
       "    }\n",
       "\n",
       "    .dataframe tbody tr th {\n",
       "        vertical-align: top;\n",
       "    }\n",
       "\n",
       "    .dataframe thead th {\n",
       "        text-align: right;\n",
       "    }\n",
       "</style>\n",
       "<table border=\"1\" class=\"dataframe\">\n",
       "  <thead>\n",
       "    <tr style=\"text-align: right;\">\n",
       "      <th></th>\n",
       "      <th>var</th>\n",
       "      <th>coef</th>\n",
       "    </tr>\n",
       "  </thead>\n",
       "  <tbody>\n",
       "    <tr>\n",
       "      <th>6840</th>\n",
       "      <td>knife</td>\n",
       "      <td>-5.722936</td>\n",
       "    </tr>\n",
       "    <tr>\n",
       "      <th>7912</th>\n",
       "      <td>hanky</td>\n",
       "      <td>-5.680613</td>\n",
       "    </tr>\n",
       "    <tr>\n",
       "      <th>1960</th>\n",
       "      <td>shirt</td>\n",
       "      <td>-5.120501</td>\n",
       "    </tr>\n",
       "    <tr>\n",
       "      <th>5649</th>\n",
       "      <td>boot</td>\n",
       "      <td>-5.088753</td>\n",
       "    </tr>\n",
       "    <tr>\n",
       "      <th>3040</th>\n",
       "      <td>jacket</td>\n",
       "      <td>-4.721406</td>\n",
       "    </tr>\n",
       "  </tbody>\n",
       "</table>\n",
       "</div>"
      ],
      "text/plain": [
       "         var      coef\n",
       "6840   knife -5.722936\n",
       "7912   hanky -5.680613\n",
       "1960   shirt -5.120501\n",
       "5649    boot -5.088753\n",
       "3040  jacket -4.721406"
      ]
     },
     "metadata": {},
     "output_type": "display_data"
    },
    {
     "data": {
      "text/html": [
       "<div>\n",
       "<style scoped>\n",
       "    .dataframe tbody tr th:only-of-type {\n",
       "        vertical-align: middle;\n",
       "    }\n",
       "\n",
       "    .dataframe tbody tr th {\n",
       "        vertical-align: top;\n",
       "    }\n",
       "\n",
       "    .dataframe thead th {\n",
       "        text-align: right;\n",
       "    }\n",
       "</style>\n",
       "<table border=\"1\" class=\"dataframe\">\n",
       "  <thead>\n",
       "    <tr style=\"text-align: right;\">\n",
       "      <th></th>\n",
       "      <th>var</th>\n",
       "      <th>coef</th>\n",
       "    </tr>\n",
       "  </thead>\n",
       "  <tbody>\n",
       "    <tr>\n",
       "      <th>4505</th>\n",
       "      <td>earrings</td>\n",
       "      <td>7.579561</td>\n",
       "    </tr>\n",
       "    <tr>\n",
       "      <th>6761</th>\n",
       "      <td>cufflinks</td>\n",
       "      <td>5.633612</td>\n",
       "    </tr>\n",
       "    <tr>\n",
       "      <th>1234</th>\n",
       "      <td>jewelry</td>\n",
       "      <td>5.491683</td>\n",
       "    </tr>\n",
       "    <tr>\n",
       "      <th>5711</th>\n",
       "      <td>necklace</td>\n",
       "      <td>5.059045</td>\n",
       "    </tr>\n",
       "    <tr>\n",
       "      <th>6445</th>\n",
       "      <td>earring</td>\n",
       "      <td>5.051606</td>\n",
       "    </tr>\n",
       "  </tbody>\n",
       "</table>\n",
       "</div>"
      ],
      "text/plain": [
       "            var      coef\n",
       "4505   earrings  7.579561\n",
       "6761  cufflinks  5.633612\n",
       "1234    jewelry  5.491683\n",
       "5711   necklace  5.059045\n",
       "6445    earring  5.051606"
      ]
     },
     "metadata": {},
     "output_type": "display_data"
    },
    {
     "name": "stdout",
     "output_type": "stream",
     "text": [
      "item_Shoes\n"
     ]
    },
    {
     "data": {
      "text/html": [
       "<div>\n",
       "<style scoped>\n",
       "    .dataframe tbody tr th:only-of-type {\n",
       "        vertical-align: middle;\n",
       "    }\n",
       "\n",
       "    .dataframe tbody tr th {\n",
       "        vertical-align: top;\n",
       "    }\n",
       "\n",
       "    .dataframe thead th {\n",
       "        text-align: right;\n",
       "    }\n",
       "</style>\n",
       "<table border=\"1\" class=\"dataframe\">\n",
       "  <thead>\n",
       "    <tr style=\"text-align: right;\">\n",
       "      <th></th>\n",
       "      <th>var</th>\n",
       "      <th>coef</th>\n",
       "    </tr>\n",
       "  </thead>\n",
       "  <tbody>\n",
       "    <tr>\n",
       "      <th>1960</th>\n",
       "      <td>shirt</td>\n",
       "      <td>-6.998675</td>\n",
       "    </tr>\n",
       "    <tr>\n",
       "      <th>4505</th>\n",
       "      <td>earrings</td>\n",
       "      <td>-6.876314</td>\n",
       "    </tr>\n",
       "    <tr>\n",
       "      <th>2183</th>\n",
       "      <td>watch</td>\n",
       "      <td>-6.491075</td>\n",
       "    </tr>\n",
       "    <tr>\n",
       "      <th>5711</th>\n",
       "      <td>necklace</td>\n",
       "      <td>-6.246308</td>\n",
       "    </tr>\n",
       "    <tr>\n",
       "      <th>1512</th>\n",
       "      <td>shorts</td>\n",
       "      <td>-5.998507</td>\n",
       "    </tr>\n",
       "  </tbody>\n",
       "</table>\n",
       "</div>"
      ],
      "text/plain": [
       "           var      coef\n",
       "1960     shirt -6.998675\n",
       "4505  earrings -6.876314\n",
       "2183     watch -6.491075\n",
       "5711  necklace -6.246308\n",
       "1512    shorts -5.998507"
      ]
     },
     "metadata": {},
     "output_type": "display_data"
    },
    {
     "data": {
      "text/html": [
       "<div>\n",
       "<style scoped>\n",
       "    .dataframe tbody tr th:only-of-type {\n",
       "        vertical-align: middle;\n",
       "    }\n",
       "\n",
       "    .dataframe tbody tr th {\n",
       "        vertical-align: top;\n",
       "    }\n",
       "\n",
       "    .dataframe thead th {\n",
       "        text-align: right;\n",
       "    }\n",
       "</style>\n",
       "<table border=\"1\" class=\"dataframe\">\n",
       "  <thead>\n",
       "    <tr style=\"text-align: right;\">\n",
       "      <th></th>\n",
       "      <th>var</th>\n",
       "      <th>coef</th>\n",
       "    </tr>\n",
       "  </thead>\n",
       "  <tbody>\n",
       "    <tr>\n",
       "      <th>5020</th>\n",
       "      <td>sneaker</td>\n",
       "      <td>6.537373</td>\n",
       "    </tr>\n",
       "    <tr>\n",
       "      <th>1992</th>\n",
       "      <td>sandal</td>\n",
       "      <td>6.049883</td>\n",
       "    </tr>\n",
       "    <tr>\n",
       "      <th>7193</th>\n",
       "      <td>clog</td>\n",
       "      <td>5.759845</td>\n",
       "    </tr>\n",
       "    <tr>\n",
       "      <th>3900</th>\n",
       "      <td>sandals</td>\n",
       "      <td>5.231541</td>\n",
       "    </tr>\n",
       "    <tr>\n",
       "      <th>8032</th>\n",
       "      <td>flop</td>\n",
       "      <td>4.993156</td>\n",
       "    </tr>\n",
       "  </tbody>\n",
       "</table>\n",
       "</div>"
      ],
      "text/plain": [
       "          var      coef\n",
       "5020  sneaker  6.537373\n",
       "1992   sandal  6.049883\n",
       "7193     clog  5.759845\n",
       "3900  sandals  5.231541\n",
       "8032     flop  4.993156"
      ]
     },
     "metadata": {},
     "output_type": "display_data"
    },
    {
     "name": "stdout",
     "output_type": "stream",
     "text": [
      "item_Sport_Clothing\n"
     ]
    },
    {
     "data": {
      "text/html": [
       "<div>\n",
       "<style scoped>\n",
       "    .dataframe tbody tr th:only-of-type {\n",
       "        vertical-align: middle;\n",
       "    }\n",
       "\n",
       "    .dataframe tbody tr th {\n",
       "        vertical-align: top;\n",
       "    }\n",
       "\n",
       "    .dataframe thead th {\n",
       "        text-align: right;\n",
       "    }\n",
       "</style>\n",
       "<table border=\"1\" class=\"dataframe\">\n",
       "  <thead>\n",
       "    <tr style=\"text-align: right;\">\n",
       "      <th></th>\n",
       "      <th>var</th>\n",
       "      <th>coef</th>\n",
       "    </tr>\n",
       "  </thead>\n",
       "  <tbody>\n",
       "    <tr>\n",
       "      <th>6243</th>\n",
       "      <td>skinit</td>\n",
       "      <td>-7.289856</td>\n",
       "    </tr>\n",
       "    <tr>\n",
       "      <th>4505</th>\n",
       "      <td>earrings</td>\n",
       "      <td>-7.029006</td>\n",
       "    </tr>\n",
       "    <tr>\n",
       "      <th>6579</th>\n",
       "      <td>decal</td>\n",
       "      <td>-6.486036</td>\n",
       "    </tr>\n",
       "    <tr>\n",
       "      <th>324</th>\n",
       "      <td>wallet</td>\n",
       "      <td>-6.149504</td>\n",
       "    </tr>\n",
       "    <tr>\n",
       "      <th>6401</th>\n",
       "      <td>cgecko</td>\n",
       "      <td>-5.768958</td>\n",
       "    </tr>\n",
       "  </tbody>\n",
       "</table>\n",
       "</div>"
      ],
      "text/plain": [
       "           var      coef\n",
       "6243    skinit -7.289856\n",
       "4505  earrings -7.029006\n",
       "6579     decal -6.486036\n",
       "324     wallet -6.149504\n",
       "6401    cgecko -5.768958"
      ]
     },
     "metadata": {},
     "output_type": "display_data"
    },
    {
     "data": {
      "text/html": [
       "<div>\n",
       "<style scoped>\n",
       "    .dataframe tbody tr th:only-of-type {\n",
       "        vertical-align: middle;\n",
       "    }\n",
       "\n",
       "    .dataframe tbody tr th {\n",
       "        vertical-align: top;\n",
       "    }\n",
       "\n",
       "    .dataframe thead th {\n",
       "        text-align: right;\n",
       "    }\n",
       "</style>\n",
       "<table border=\"1\" class=\"dataframe\">\n",
       "  <thead>\n",
       "    <tr style=\"text-align: right;\">\n",
       "      <th></th>\n",
       "      <th>var</th>\n",
       "      <th>coef</th>\n",
       "    </tr>\n",
       "  </thead>\n",
       "  <tbody>\n",
       "    <tr>\n",
       "      <th>7198</th>\n",
       "      <td>unitard</td>\n",
       "      <td>3.706070</td>\n",
       "    </tr>\n",
       "    <tr>\n",
       "      <th>5797</th>\n",
       "      <td>breech</td>\n",
       "      <td>3.628412</td>\n",
       "    </tr>\n",
       "    <tr>\n",
       "      <th>8590</th>\n",
       "      <td>spun</td>\n",
       "      <td>3.318203</td>\n",
       "    </tr>\n",
       "    <tr>\n",
       "      <th>3115</th>\n",
       "      <td>equine</td>\n",
       "      <td>3.129666</td>\n",
       "    </tr>\n",
       "    <tr>\n",
       "      <th>1389</th>\n",
       "      <td>amc</td>\n",
       "      <td>3.068976</td>\n",
       "    </tr>\n",
       "  </tbody>\n",
       "</table>\n",
       "</div>"
      ],
      "text/plain": [
       "          var      coef\n",
       "7198  unitard  3.706070\n",
       "5797   breech  3.628412\n",
       "8590     spun  3.318203\n",
       "3115   equine  3.129666\n",
       "1389      amc  3.068976"
      ]
     },
     "metadata": {},
     "output_type": "display_data"
    },
    {
     "name": "stdout",
     "output_type": "stream",
     "text": [
      "item_Accessories\n"
     ]
    },
    {
     "data": {
      "text/html": [
       "<div>\n",
       "<style scoped>\n",
       "    .dataframe tbody tr th:only-of-type {\n",
       "        vertical-align: middle;\n",
       "    }\n",
       "\n",
       "    .dataframe tbody tr th {\n",
       "        vertical-align: top;\n",
       "    }\n",
       "\n",
       "    .dataframe thead th {\n",
       "        text-align: right;\n",
       "    }\n",
       "</style>\n",
       "<table border=\"1\" class=\"dataframe\">\n",
       "  <thead>\n",
       "    <tr style=\"text-align: right;\">\n",
       "      <th></th>\n",
       "      <th>var</th>\n",
       "      <th>coef</th>\n",
       "    </tr>\n",
       "  </thead>\n",
       "  <tbody>\n",
       "    <tr>\n",
       "      <th>4505</th>\n",
       "      <td>earrings</td>\n",
       "      <td>-5.668739</td>\n",
       "    </tr>\n",
       "    <tr>\n",
       "      <th>1960</th>\n",
       "      <td>shirt</td>\n",
       "      <td>-5.572282</td>\n",
       "    </tr>\n",
       "    <tr>\n",
       "      <th>1992</th>\n",
       "      <td>sandal</td>\n",
       "      <td>-5.105587</td>\n",
       "    </tr>\n",
       "    <tr>\n",
       "      <th>3248</th>\n",
       "      <td>sweatshirt</td>\n",
       "      <td>-5.036002</td>\n",
       "    </tr>\n",
       "    <tr>\n",
       "      <th>6761</th>\n",
       "      <td>cufflinks</td>\n",
       "      <td>-4.857494</td>\n",
       "    </tr>\n",
       "  </tbody>\n",
       "</table>\n",
       "</div>"
      ],
      "text/plain": [
       "             var      coef\n",
       "4505    earrings -5.668739\n",
       "1960       shirt -5.572282\n",
       "1992      sandal -5.105587\n",
       "3248  sweatshirt -5.036002\n",
       "6761   cufflinks -4.857494"
      ]
     },
     "metadata": {},
     "output_type": "display_data"
    },
    {
     "data": {
      "text/html": [
       "<div>\n",
       "<style scoped>\n",
       "    .dataframe tbody tr th:only-of-type {\n",
       "        vertical-align: middle;\n",
       "    }\n",
       "\n",
       "    .dataframe tbody tr th {\n",
       "        vertical-align: top;\n",
       "    }\n",
       "\n",
       "    .dataframe thead th {\n",
       "        text-align: right;\n",
       "    }\n",
       "</style>\n",
       "<table border=\"1\" class=\"dataframe\">\n",
       "  <thead>\n",
       "    <tr style=\"text-align: right;\">\n",
       "      <th></th>\n",
       "      <th>var</th>\n",
       "      <th>coef</th>\n",
       "    </tr>\n",
       "  </thead>\n",
       "  <tbody>\n",
       "    <tr>\n",
       "      <th>6401</th>\n",
       "      <td>cgecko</td>\n",
       "      <td>9.813471</td>\n",
       "    </tr>\n",
       "    <tr>\n",
       "      <th>1250</th>\n",
       "      <td>cue</td>\n",
       "      <td>5.062053</td>\n",
       "    </tr>\n",
       "    <tr>\n",
       "      <th>1230</th>\n",
       "      <td>referee</td>\n",
       "      <td>4.740950</td>\n",
       "    </tr>\n",
       "    <tr>\n",
       "      <th>6579</th>\n",
       "      <td>decal</td>\n",
       "      <td>4.721992</td>\n",
       "    </tr>\n",
       "    <tr>\n",
       "      <th>6705</th>\n",
       "      <td>treadmill</td>\n",
       "      <td>4.536380</td>\n",
       "    </tr>\n",
       "  </tbody>\n",
       "</table>\n",
       "</div>"
      ],
      "text/plain": [
       "            var      coef\n",
       "6401     cgecko  9.813471\n",
       "1250        cue  5.062053\n",
       "1230    referee  4.740950\n",
       "6579      decal  4.721992\n",
       "6705  treadmill  4.536380"
      ]
     },
     "metadata": {},
     "output_type": "display_data"
    }
   ],
   "source": [
    "for i in range(5):\n",
    "    print(lista_cat[i])\n",
    "    mydf = pd.DataFrame(list(zip(list(matrix.get_feature_names()), list(lr_cat[i].coef_[0]))), columns = ['var', 'coef'])\n",
    "    display(mydf.sort_values(by = 'coef', ascending = True).head(5))\n",
    "    display(mydf.sort_values(by = 'coef', ascending = False).head(5))"
   ]
  },
  {
   "cell_type": "code",
   "execution_count": 23,
   "metadata": {
    "ExecuteTime": {
     "end_time": "2022-08-11T09:06:23.677898Z",
     "start_time": "2022-08-11T09:06:23.653898Z"
    }
   },
   "outputs": [
    {
     "data": {
      "text/html": [
       "<div>\n",
       "<style scoped>\n",
       "    .dataframe tbody tr th:only-of-type {\n",
       "        vertical-align: middle;\n",
       "    }\n",
       "\n",
       "    .dataframe tbody tr th {\n",
       "        vertical-align: top;\n",
       "    }\n",
       "\n",
       "    .dataframe thead th {\n",
       "        text-align: right;\n",
       "    }\n",
       "</style>\n",
       "<table border=\"1\" class=\"dataframe\">\n",
       "  <thead>\n",
       "    <tr style=\"text-align: right;\">\n",
       "      <th></th>\n",
       "      <th>var</th>\n",
       "      <th>coef</th>\n",
       "    </tr>\n",
       "  </thead>\n",
       "  <tbody>\n",
       "    <tr>\n",
       "      <th>6401</th>\n",
       "      <td>cgecko</td>\n",
       "      <td>9.813471</td>\n",
       "    </tr>\n",
       "    <tr>\n",
       "      <th>1250</th>\n",
       "      <td>cue</td>\n",
       "      <td>5.062053</td>\n",
       "    </tr>\n",
       "    <tr>\n",
       "      <th>1230</th>\n",
       "      <td>referee</td>\n",
       "      <td>4.740950</td>\n",
       "    </tr>\n",
       "    <tr>\n",
       "      <th>6579</th>\n",
       "      <td>decal</td>\n",
       "      <td>4.721992</td>\n",
       "    </tr>\n",
       "    <tr>\n",
       "      <th>6705</th>\n",
       "      <td>treadmill</td>\n",
       "      <td>4.536380</td>\n",
       "    </tr>\n",
       "  </tbody>\n",
       "</table>\n",
       "</div>"
      ],
      "text/plain": [
       "            var      coef\n",
       "6401     cgecko  9.813471\n",
       "1250        cue  5.062053\n",
       "1230    referee  4.740950\n",
       "6579      decal  4.721992\n",
       "6705  treadmill  4.536380"
      ]
     },
     "execution_count": 23,
     "metadata": {},
     "output_type": "execute_result"
    }
   ],
   "source": [
    "mydf.sort_values(by = 'coef', ascending = False).head(5)"
   ]
  },
  {
   "cell_type": "code",
   "execution_count": 24,
   "metadata": {
    "ExecuteTime": {
     "end_time": "2022-08-11T09:06:23.765899Z",
     "start_time": "2022-08-11T09:06:23.677898Z"
    }
   },
   "outputs": [],
   "source": [
    "i =0\n",
    "for cat in lista_cat:\n",
    "    df_teste[cat] = lr_cat[i].predict_proba(X_teste_i)[:,1]\n",
    "    i = i +1"
   ]
  },
  {
   "cell_type": "markdown",
   "metadata": {},
   "source": [
    "#### Resultado"
   ]
  },
  {
   "cell_type": "code",
   "execution_count": 25,
   "metadata": {
    "ExecuteTime": {
     "end_time": "2022-08-11T09:06:23.845925Z",
     "start_time": "2022-08-11T09:06:23.765899Z"
    }
   },
   "outputs": [
    {
     "data": {
      "text/plain": [
       "category_secondary\n",
       "item_Accessories       0.920393\n",
       "item_Clothing          0.821734\n",
       "item_Hunting           0.944793\n",
       "item_Jewelry           0.969342\n",
       "item_Shoes             0.976542\n",
       "item_Sport_Clothing    0.849255\n",
       "Name: acerto1, dtype: float64"
      ]
     },
     "execution_count": 25,
     "metadata": {},
     "output_type": "execute_result"
    }
   ],
   "source": [
    "df_teste['cat_pred1'] = df_teste[lista_cat].astype(float).idxmax(axis=1)\n",
    "df_teste['acerto1'] = np.where(df_teste.category_secondary == df_teste.cat_pred1,1,0)\n",
    "df_teste.groupby('category_secondary')['acerto1'].mean()"
   ]
  },
  {
   "cell_type": "code",
   "execution_count": 26,
   "metadata": {
    "ExecuteTime": {
     "end_time": "2022-08-11T09:06:23.861934Z",
     "start_time": "2022-08-11T09:06:23.845925Z"
    }
   },
   "outputs": [
    {
     "data": {
      "text/html": [
       "<div>\n",
       "<style scoped>\n",
       "    .dataframe tbody tr th:only-of-type {\n",
       "        vertical-align: middle;\n",
       "    }\n",
       "\n",
       "    .dataframe tbody tr th {\n",
       "        vertical-align: top;\n",
       "    }\n",
       "\n",
       "    .dataframe thead th {\n",
       "        text-align: right;\n",
       "    }\n",
       "</style>\n",
       "<table border=\"1\" class=\"dataframe\">\n",
       "  <thead>\n",
       "    <tr style=\"text-align: right;\">\n",
       "      <th></th>\n",
       "      <th>title</th>\n",
       "      <th>category_main</th>\n",
       "      <th>category_secondary</th>\n",
       "      <th>title_trat</th>\n",
       "      <th>Treino</th>\n",
       "      <th>item_Clothing</th>\n",
       "      <th>item_Jewelry</th>\n",
       "      <th>item_Shoes</th>\n",
       "      <th>item_Sport_Clothing</th>\n",
       "      <th>item_Accessories</th>\n",
       "      <th>item_Hunting</th>\n",
       "      <th>cat_pred1</th>\n",
       "      <th>acerto1</th>\n",
       "    </tr>\n",
       "  </thead>\n",
       "  <tbody>\n",
       "    <tr>\n",
       "      <th>784878</th>\n",
       "      <td>Carter's Baby Boy's 3 Piece Essentials</td>\n",
       "      <td>Clothing_Shoes_and_Jewelry</td>\n",
       "      <td>item_Clothing</td>\n",
       "      <td>carters baby boys 3 piece essentials</td>\n",
       "      <td>0</td>\n",
       "      <td>0.967636</td>\n",
       "      <td>0.006063</td>\n",
       "      <td>2.554375e-04</td>\n",
       "      <td>0.015595</td>\n",
       "      <td>0.010985</td>\n",
       "      <td>0.043002</td>\n",
       "      <td>item_Clothing</td>\n",
       "      <td>1</td>\n",
       "    </tr>\n",
       "    <tr>\n",
       "      <th>559963</th>\n",
       "      <td>True Religion Women's Billy Straight Jean, Lon...</td>\n",
       "      <td>Clothing_Shoes_and_Jewelry</td>\n",
       "      <td>item_Clothing</td>\n",
       "      <td>true religion womens billy straight jean lones...</td>\n",
       "      <td>0</td>\n",
       "      <td>0.995756</td>\n",
       "      <td>0.005741</td>\n",
       "      <td>2.351659e-03</td>\n",
       "      <td>0.009562</td>\n",
       "      <td>0.001397</td>\n",
       "      <td>0.004665</td>\n",
       "      <td>item_Clothing</td>\n",
       "      <td>1</td>\n",
       "    </tr>\n",
       "    <tr>\n",
       "      <th>1286324</th>\n",
       "      <td>Jag Jeans Women's Mila Pull-On Straight Leg</td>\n",
       "      <td>Clothing_Shoes_and_Jewelry</td>\n",
       "      <td>item_Clothing</td>\n",
       "      <td>jag jeans womens mila pullon straight leg</td>\n",
       "      <td>0</td>\n",
       "      <td>0.961276</td>\n",
       "      <td>0.000107</td>\n",
       "      <td>5.420283e-03</td>\n",
       "      <td>0.020383</td>\n",
       "      <td>0.003685</td>\n",
       "      <td>0.000347</td>\n",
       "      <td>item_Clothing</td>\n",
       "      <td>1</td>\n",
       "    </tr>\n",
       "    <tr>\n",
       "      <th>1441852</th>\n",
       "      <td>WOMEN NEW PANT AFGANI COTTON YOGA GYPSY POCKET...</td>\n",
       "      <td>Clothing_Shoes_and_Jewelry</td>\n",
       "      <td>item_Clothing</td>\n",
       "      <td>women new pant afgani cotton yoga gypsy pocket...</td>\n",
       "      <td>0</td>\n",
       "      <td>0.517770</td>\n",
       "      <td>0.000010</td>\n",
       "      <td>3.133347e-07</td>\n",
       "      <td>0.363797</td>\n",
       "      <td>0.000228</td>\n",
       "      <td>0.000004</td>\n",
       "      <td>item_Clothing</td>\n",
       "      <td>1</td>\n",
       "    </tr>\n",
       "    <tr>\n",
       "      <th>797767</th>\n",
       "      <td>Bonnie Baby-girls Infant Leopard Print Fleece ...</td>\n",
       "      <td>Clothing_Shoes_and_Jewelry</td>\n",
       "      <td>item_Clothing</td>\n",
       "      <td>bonnie babygirls infant leopard print fleece l...</td>\n",
       "      <td>0</td>\n",
       "      <td>0.934168</td>\n",
       "      <td>0.000016</td>\n",
       "      <td>1.112036e-04</td>\n",
       "      <td>0.112352</td>\n",
       "      <td>0.000020</td>\n",
       "      <td>0.000007</td>\n",
       "      <td>item_Clothing</td>\n",
       "      <td>1</td>\n",
       "    </tr>\n",
       "  </tbody>\n",
       "</table>\n",
       "</div>"
      ],
      "text/plain": [
       "                                                     title  \\\n",
       "784878              Carter's Baby Boy's 3 Piece Essentials   \n",
       "559963   True Religion Women's Billy Straight Jean, Lon...   \n",
       "1286324        Jag Jeans Women's Mila Pull-On Straight Leg   \n",
       "1441852  WOMEN NEW PANT AFGANI COTTON YOGA GYPSY POCKET...   \n",
       "797767   Bonnie Baby-girls Infant Leopard Print Fleece ...   \n",
       "\n",
       "                      category_main category_secondary  \\\n",
       "784878   Clothing_Shoes_and_Jewelry      item_Clothing   \n",
       "559963   Clothing_Shoes_and_Jewelry      item_Clothing   \n",
       "1286324  Clothing_Shoes_and_Jewelry      item_Clothing   \n",
       "1441852  Clothing_Shoes_and_Jewelry      item_Clothing   \n",
       "797767   Clothing_Shoes_and_Jewelry      item_Clothing   \n",
       "\n",
       "                                                title_trat  Treino  \\\n",
       "784878                carters baby boys 3 piece essentials       0   \n",
       "559963   true religion womens billy straight jean lones...       0   \n",
       "1286324          jag jeans womens mila pullon straight leg       0   \n",
       "1441852  women new pant afgani cotton yoga gypsy pocket...       0   \n",
       "797767   bonnie babygirls infant leopard print fleece l...       0   \n",
       "\n",
       "         item_Clothing  item_Jewelry    item_Shoes  item_Sport_Clothing  \\\n",
       "784878        0.967636      0.006063  2.554375e-04             0.015595   \n",
       "559963        0.995756      0.005741  2.351659e-03             0.009562   \n",
       "1286324       0.961276      0.000107  5.420283e-03             0.020383   \n",
       "1441852       0.517770      0.000010  3.133347e-07             0.363797   \n",
       "797767        0.934168      0.000016  1.112036e-04             0.112352   \n",
       "\n",
       "         item_Accessories  item_Hunting      cat_pred1  acerto1  \n",
       "784878           0.010985      0.043002  item_Clothing        1  \n",
       "559963           0.001397      0.004665  item_Clothing        1  \n",
       "1286324          0.003685      0.000347  item_Clothing        1  \n",
       "1441852          0.000228      0.000004  item_Clothing        1  \n",
       "797767           0.000020      0.000007  item_Clothing        1  "
      ]
     },
     "execution_count": 26,
     "metadata": {},
     "output_type": "execute_result"
    }
   ],
   "source": [
    "df_teste.head()"
   ]
  },
  {
   "cell_type": "markdown",
   "metadata": {},
   "source": [
    "### Modelo duas etapas"
   ]
  },
  {
   "cell_type": "markdown",
   "metadata": {
    "ExecuteTime": {
     "end_time": "2022-03-09T12:25:26.194673Z",
     "start_time": "2022-03-09T12:25:26.179970Z"
    }
   },
   "source": [
    "#### Etapa 1"
   ]
  },
  {
   "cell_type": "code",
   "execution_count": 27,
   "metadata": {
    "ExecuteTime": {
     "end_time": "2022-08-11T09:06:26.935113Z",
     "start_time": "2022-08-11T09:06:23.861934Z"
    }
   },
   "outputs": [
    {
     "name": "stdout",
     "output_type": "stream",
     "text": [
      "56445\n",
      "56445\n",
      "56445\n",
      "8714\n",
      "['Clothing_Shoes_and_Jewelry' 'Sports_and_Outdoors']\n"
     ]
    }
   ],
   "source": [
    "X_treino_i = matrix.fit_transform(df_treino['title'])\n",
    "print(X_teste_i.shape[0])\n",
    "Y_treino_i =  df_treino['category_main']\n",
    "print(len(df_teste['title']))\n",
    "X_teste_i = matrix.fit_transform(df_teste['title'])\n",
    "print(X_teste_i.shape[0])\n",
    "Y_teste_i =  df_teste['category_main']\n",
    "#I =  df_all.index\n",
    "\n",
    "palavras = matrix.get_feature_names()\n",
    "print(len(palavras))\n",
    "\n",
    "lista_cat = Y_treino_i.unique()\n",
    "print(lista_cat)"
   ]
  },
  {
   "cell_type": "code",
   "execution_count": 28,
   "metadata": {
    "ExecuteTime": {
     "end_time": "2022-08-11T09:06:27.964609Z",
     "start_time": "2022-08-11T09:06:26.935113Z"
    }
   },
   "outputs": [
    {
     "name": "stdout",
     "output_type": "stream",
     "text": [
      "1 - Clothing_Shoes_and_Jewelry\n",
      "      Acuracia: 89%\n",
      "2 - Sports_and_Outdoors\n",
      "      Acuracia: 89%\n"
     ]
    }
   ],
   "source": [
    "i = 0 \n",
    "lr_cat = []   \n",
    "y_treino = []\n",
    "y_teste = []\n",
    "y_pred = []\n",
    "\n",
    "for cat in lista_cat:\n",
    "\n",
    "    print(str(i+1)+' - '+cat)\n",
    "\n",
    "    y_treino.append(np.where(Y_treino_i == cat,1,0))\n",
    "    y_teste.append(np.where(Y_teste_i == cat,1,0))\n",
    "\n",
    "    lr_cat.append(LogisticRegression(fit_intercept = False, C=0.5,penalty='l1',solver='liblinear'))#, 'saga',‘liblinear’))\n",
    "    lr_cat[i].fit(X_treino_i,y_treino[i])\n",
    "    \n",
    "    #print('Rodou modelo')   \n",
    " \n",
    "    y_pred.append(lr_cat[i].predict_proba(X_teste_i)[:,1])\n",
    "    \n",
    "    print('      Acuracia: ' + \"{0:.00%}\".format(1 - mean(abs(y_pred[i] - y_teste[i])))) \n",
    "    \n",
    "    i = i +1\n",
    "\n",
    "    #print ('------------------------------------------')"
   ]
  },
  {
   "cell_type": "code",
   "execution_count": 29,
   "metadata": {
    "ExecuteTime": {
     "end_time": "2022-08-11T09:06:27.980896Z",
     "start_time": "2022-08-11T09:06:27.964609Z"
    }
   },
   "outputs": [],
   "source": [
    "i =0\n",
    "for cat in lista_cat:\n",
    "    df_teste[cat] = lr_cat[i].predict_proba(X_teste_i)[:,1]\n",
    "    i = i +1"
   ]
  },
  {
   "cell_type": "code",
   "execution_count": 30,
   "metadata": {
    "ExecuteTime": {
     "end_time": "2022-08-11T09:06:28.077025Z",
     "start_time": "2022-08-11T09:06:27.980896Z"
    }
   },
   "outputs": [
    {
     "data": {
      "text/plain": [
       "category_main\n",
       "Clothing_Shoes_and_Jewelry    0.924103\n",
       "Sports_and_Outdoors           0.933373\n",
       "Name: acerto1, dtype: float64"
      ]
     },
     "execution_count": 30,
     "metadata": {},
     "output_type": "execute_result"
    }
   ],
   "source": [
    "df_teste['cat_pred1'] = df_teste[lista_cat].astype(float).idxmax(axis=1)\n",
    "df_teste['acerto1'] = np.where(df_teste.category_main == df_teste.cat_pred1,1,0)\n",
    "df_teste.groupby('category_main')['acerto1'].mean()"
   ]
  },
  {
   "cell_type": "code",
   "execution_count": 31,
   "metadata": {
    "ExecuteTime": {
     "end_time": "2022-08-11T09:06:28.092610Z",
     "start_time": "2022-08-11T09:06:28.077025Z"
    }
   },
   "outputs": [
    {
     "data": {
      "text/plain": [
       "75075                                    Thermax Mask - Mens\n",
       "121541     Stylish Top with Peek-A-Boo Keyhole from Hot F...\n",
       "826986            T Works Supima 3/4 Sleeve Crew - White - m\n",
       "954877     The North Face Womens Pr Tka 100 Microvelour G...\n",
       "1403155             Soffe Women's Zebra Crew Neck Sweatshirt\n",
       "                                 ...                        \n",
       "94459                       Final Approach Mutt Hut II Blind\n",
       "130731                           (SP110060) 6'0&quot; 1 PC H\n",
       "158446                             Simms HardBite Star Cleat\n",
       "468346                                                PGKT05\n",
       "244101                        Simms Freestone Boot - Size 13\n",
       "Name: title, Length: 4022, dtype: object"
      ]
     },
     "execution_count": 31,
     "metadata": {},
     "output_type": "execute_result"
    }
   ],
   "source": [
    "df_teste[df_teste.acerto1==0]['title']"
   ]
  },
  {
   "cell_type": "code",
   "execution_count": 32,
   "metadata": {
    "ExecuteTime": {
     "end_time": "2022-08-11T09:06:28.156610Z",
     "start_time": "2022-08-11T09:06:28.092610Z"
    }
   },
   "outputs": [
    {
     "name": "stdout",
     "output_type": "stream",
     "text": [
      "Clothing_Shoes_and_Jewelry\n"
     ]
    },
    {
     "data": {
      "text/html": [
       "<div>\n",
       "<style scoped>\n",
       "    .dataframe tbody tr th:only-of-type {\n",
       "        vertical-align: middle;\n",
       "    }\n",
       "\n",
       "    .dataframe tbody tr th {\n",
       "        vertical-align: top;\n",
       "    }\n",
       "\n",
       "    .dataframe thead th {\n",
       "        text-align: right;\n",
       "    }\n",
       "</style>\n",
       "<table border=\"1\" class=\"dataframe\">\n",
       "  <thead>\n",
       "    <tr style=\"text-align: right;\">\n",
       "      <th></th>\n",
       "      <th>var</th>\n",
       "      <th>coef</th>\n",
       "    </tr>\n",
       "  </thead>\n",
       "  <tbody>\n",
       "    <tr>\n",
       "      <th>6840</th>\n",
       "      <td>knife</td>\n",
       "      <td>-6.433944</td>\n",
       "    </tr>\n",
       "    <tr>\n",
       "      <th>1654</th>\n",
       "      <td>sight</td>\n",
       "      <td>-4.811121</td>\n",
       "    </tr>\n",
       "    <tr>\n",
       "      <th>8570</th>\n",
       "      <td>plano</td>\n",
       "      <td>-4.743145</td>\n",
       "    </tr>\n",
       "    <tr>\n",
       "      <th>7476</th>\n",
       "      <td>holster</td>\n",
       "      <td>-4.737426</td>\n",
       "    </tr>\n",
       "    <tr>\n",
       "      <th>4300</th>\n",
       "      <td>wading</td>\n",
       "      <td>-4.414903</td>\n",
       "    </tr>\n",
       "  </tbody>\n",
       "</table>\n",
       "</div>"
      ],
      "text/plain": [
       "          var      coef\n",
       "6840    knife -6.433944\n",
       "1654    sight -4.811121\n",
       "8570    plano -4.743145\n",
       "7476  holster -4.737426\n",
       "4300   wading -4.414903"
      ]
     },
     "metadata": {},
     "output_type": "display_data"
    },
    {
     "data": {
      "text/html": [
       "<div>\n",
       "<style scoped>\n",
       "    .dataframe tbody tr th:only-of-type {\n",
       "        vertical-align: middle;\n",
       "    }\n",
       "\n",
       "    .dataframe tbody tr th {\n",
       "        vertical-align: top;\n",
       "    }\n",
       "\n",
       "    .dataframe thead th {\n",
       "        text-align: right;\n",
       "    }\n",
       "</style>\n",
       "<table border=\"1\" class=\"dataframe\">\n",
       "  <thead>\n",
       "    <tr style=\"text-align: right;\">\n",
       "      <th></th>\n",
       "      <th>var</th>\n",
       "      <th>coef</th>\n",
       "    </tr>\n",
       "  </thead>\n",
       "  <tbody>\n",
       "    <tr>\n",
       "      <th>4505</th>\n",
       "      <td>earrings</td>\n",
       "      <td>7.377857</td>\n",
       "    </tr>\n",
       "    <tr>\n",
       "      <th>6761</th>\n",
       "      <td>cufflinks</td>\n",
       "      <td>5.929035</td>\n",
       "    </tr>\n",
       "    <tr>\n",
       "      <th>5020</th>\n",
       "      <td>sneaker</td>\n",
       "      <td>5.862655</td>\n",
       "    </tr>\n",
       "    <tr>\n",
       "      <th>1992</th>\n",
       "      <td>sandal</td>\n",
       "      <td>5.343385</td>\n",
       "    </tr>\n",
       "    <tr>\n",
       "      <th>5711</th>\n",
       "      <td>necklace</td>\n",
       "      <td>5.001781</td>\n",
       "    </tr>\n",
       "  </tbody>\n",
       "</table>\n",
       "</div>"
      ],
      "text/plain": [
       "            var      coef\n",
       "4505   earrings  7.377857\n",
       "6761  cufflinks  5.929035\n",
       "5020    sneaker  5.862655\n",
       "1992     sandal  5.343385\n",
       "5711   necklace  5.001781"
      ]
     },
     "metadata": {},
     "output_type": "display_data"
    },
    {
     "name": "stdout",
     "output_type": "stream",
     "text": [
      "Sports_and_Outdoors\n"
     ]
    },
    {
     "data": {
      "text/html": [
       "<div>\n",
       "<style scoped>\n",
       "    .dataframe tbody tr th:only-of-type {\n",
       "        vertical-align: middle;\n",
       "    }\n",
       "\n",
       "    .dataframe tbody tr th {\n",
       "        vertical-align: top;\n",
       "    }\n",
       "\n",
       "    .dataframe thead th {\n",
       "        text-align: right;\n",
       "    }\n",
       "</style>\n",
       "<table border=\"1\" class=\"dataframe\">\n",
       "  <thead>\n",
       "    <tr style=\"text-align: right;\">\n",
       "      <th></th>\n",
       "      <th>var</th>\n",
       "      <th>coef</th>\n",
       "    </tr>\n",
       "  </thead>\n",
       "  <tbody>\n",
       "    <tr>\n",
       "      <th>4505</th>\n",
       "      <td>earrings</td>\n",
       "      <td>-7.376135</td>\n",
       "    </tr>\n",
       "    <tr>\n",
       "      <th>6761</th>\n",
       "      <td>cufflinks</td>\n",
       "      <td>-5.929390</td>\n",
       "    </tr>\n",
       "    <tr>\n",
       "      <th>5020</th>\n",
       "      <td>sneaker</td>\n",
       "      <td>-5.864700</td>\n",
       "    </tr>\n",
       "    <tr>\n",
       "      <th>1992</th>\n",
       "      <td>sandal</td>\n",
       "      <td>-5.343415</td>\n",
       "    </tr>\n",
       "    <tr>\n",
       "      <th>5711</th>\n",
       "      <td>necklace</td>\n",
       "      <td>-4.999711</td>\n",
       "    </tr>\n",
       "  </tbody>\n",
       "</table>\n",
       "</div>"
      ],
      "text/plain": [
       "            var      coef\n",
       "4505   earrings -7.376135\n",
       "6761  cufflinks -5.929390\n",
       "5020    sneaker -5.864700\n",
       "1992     sandal -5.343415\n",
       "5711   necklace -4.999711"
      ]
     },
     "metadata": {},
     "output_type": "display_data"
    },
    {
     "data": {
      "text/html": [
       "<div>\n",
       "<style scoped>\n",
       "    .dataframe tbody tr th:only-of-type {\n",
       "        vertical-align: middle;\n",
       "    }\n",
       "\n",
       "    .dataframe tbody tr th {\n",
       "        vertical-align: top;\n",
       "    }\n",
       "\n",
       "    .dataframe thead th {\n",
       "        text-align: right;\n",
       "    }\n",
       "</style>\n",
       "<table border=\"1\" class=\"dataframe\">\n",
       "  <thead>\n",
       "    <tr style=\"text-align: right;\">\n",
       "      <th></th>\n",
       "      <th>var</th>\n",
       "      <th>coef</th>\n",
       "    </tr>\n",
       "  </thead>\n",
       "  <tbody>\n",
       "    <tr>\n",
       "      <th>6840</th>\n",
       "      <td>knife</td>\n",
       "      <td>6.433507</td>\n",
       "    </tr>\n",
       "    <tr>\n",
       "      <th>1654</th>\n",
       "      <td>sight</td>\n",
       "      <td>4.810856</td>\n",
       "    </tr>\n",
       "    <tr>\n",
       "      <th>8570</th>\n",
       "      <td>plano</td>\n",
       "      <td>4.743358</td>\n",
       "    </tr>\n",
       "    <tr>\n",
       "      <th>7476</th>\n",
       "      <td>holster</td>\n",
       "      <td>4.737179</td>\n",
       "    </tr>\n",
       "    <tr>\n",
       "      <th>4300</th>\n",
       "      <td>wading</td>\n",
       "      <td>4.414520</td>\n",
       "    </tr>\n",
       "  </tbody>\n",
       "</table>\n",
       "</div>"
      ],
      "text/plain": [
       "          var      coef\n",
       "6840    knife  6.433507\n",
       "1654    sight  4.810856\n",
       "8570    plano  4.743358\n",
       "7476  holster  4.737179\n",
       "4300   wading  4.414520"
      ]
     },
     "metadata": {},
     "output_type": "display_data"
    }
   ],
   "source": [
    "for i in range(len(lista_cat)):\n",
    "    print(lista_cat[i])\n",
    "    mydf = pd.DataFrame(list(zip(list(matrix.get_feature_names()), list(lr_cat[i].coef_[0]))), columns = ['var', 'coef'])\n",
    "    display(mydf.sort_values(by = 'coef', ascending = True).head(5))\n",
    "    display(mydf.sort_values(by = 'coef', ascending = False).head(5))"
   ]
  },
  {
   "cell_type": "code",
   "execution_count": null,
   "metadata": {},
   "outputs": [],
   "source": []
  },
  {
   "cell_type": "markdown",
   "metadata": {},
   "source": [
    "#### Etapa 2 - categoria 1"
   ]
  },
  {
   "cell_type": "code",
   "execution_count": 33,
   "metadata": {
    "ExecuteTime": {
     "end_time": "2022-08-11T09:06:29.616113Z",
     "start_time": "2022-08-11T09:06:28.156610Z"
    }
   },
   "outputs": [
    {
     "name": "stdout",
     "output_type": "stream",
     "text": [
      "56445\n",
      "28183\n",
      "28183\n",
      "8714\n",
      "['item_Clothing' 'item_Jewelry' 'item_Shoes']\n"
     ]
    }
   ],
   "source": [
    "df_treino_cat1 = df_treino[df_treino['category_main']=='Clothing_Shoes_and_Jewelry']\n",
    "df_teste_cat1 = df_teste[df_teste['category_main']=='Clothing_Shoes_and_Jewelry']\n",
    "\n",
    "X_treino_i = matrix.fit_transform(df_treino_cat1['title'])\n",
    "print(X_teste_i.shape[0])\n",
    "Y_treino_i =  df_treino_cat1['category_secondary']\n",
    "print(len(df_teste_cat1['title']))\n",
    "X_teste_i = matrix.fit_transform(df_teste_cat1['title'])\n",
    "print(X_teste_i.shape[0])\n",
    "Y_teste_i =  df_teste_cat1['category_secondary']\n",
    "#I =  df_all.index\n",
    "\n",
    "palavras = matrix.get_feature_names()\n",
    "print(len(palavras))\n",
    "\n",
    "lista_cat = Y_treino_i.unique()\n",
    "print(lista_cat)"
   ]
  },
  {
   "cell_type": "code",
   "execution_count": 34,
   "metadata": {
    "ExecuteTime": {
     "end_time": "2022-08-11T09:06:30.252750Z",
     "start_time": "2022-08-11T09:06:29.616113Z"
    }
   },
   "outputs": [
    {
     "name": "stdout",
     "output_type": "stream",
     "text": [
      "1 - item_Clothing\n",
      "      Acuracia: 97%\n",
      "2 - item_Jewelry\n",
      "      Acuracia: 98%\n",
      "3 - item_Shoes\n",
      "      Acuracia: 98%\n"
     ]
    }
   ],
   "source": [
    "i = 0 \n",
    "lr_cat1 = []   \n",
    "y_treino = []\n",
    "y_teste = []\n",
    "y_pred = []\n",
    "\n",
    "for cat in lista_cat:\n",
    "\n",
    "    print(str(i+1)+' - '+cat)\n",
    "\n",
    "    y_treino.append(np.where(Y_treino_i == cat,1,0))\n",
    "    y_teste.append(np.where(Y_teste_i == cat,1,0))\n",
    "\n",
    "    lr_cat1.append(LogisticRegression(fit_intercept = False, C=0.5,penalty='l1',solver='liblinear'))#, 'saga',‘liblinear’))\n",
    "    lr_cat1[i].fit(X_treino_i,y_treino[i])\n",
    "    \n",
    "    #print('Rodou modelo')   \n",
    " \n",
    "    y_pred.append(lr_cat1[i].predict_proba(X_teste_i)[:,1])\n",
    "    \n",
    "    print('      Acuracia: ' + \"{0:.00%}\".format(1 - mean(abs(y_pred[i] - y_teste[i])))) \n",
    "    \n",
    "    i = i +1\n",
    "\n",
    "    #print ('------------------------------------------')"
   ]
  },
  {
   "cell_type": "code",
   "execution_count": 35,
   "metadata": {
    "ExecuteTime": {
     "end_time": "2022-08-11T09:06:30.893597Z",
     "start_time": "2022-08-11T09:06:30.252996Z"
    }
   },
   "outputs": [],
   "source": [
    "i =0\n",
    "X_teste_i = matrix.fit_transform(df_teste['title'])\n",
    "for cat in lista_cat:\n",
    "    df_teste[cat] = lr_cat1[i].predict_proba(X_teste_i)[:,1]\n",
    "    i = i +1\n",
    "    \n",
    "lista_cat1 = lista_cat"
   ]
  },
  {
   "cell_type": "code",
   "execution_count": 36,
   "metadata": {
    "ExecuteTime": {
     "end_time": "2022-08-11T09:06:30.973792Z",
     "start_time": "2022-08-11T09:06:30.893597Z"
    }
   },
   "outputs": [
    {
     "data": {
      "text/plain": [
       "category_secondary\n",
       "item_Accessories       0.000000\n",
       "item_Clothing          0.979078\n",
       "item_Hunting           0.000000\n",
       "item_Jewelry           0.991803\n",
       "item_Shoes             0.984290\n",
       "item_Sport_Clothing    0.000000\n",
       "Name: acerto2_cat1, dtype: float64"
      ]
     },
     "execution_count": 36,
     "metadata": {},
     "output_type": "execute_result"
    }
   ],
   "source": [
    "df_teste['cat_pred2_cat1'] = df_teste[lista_cat].astype(float).idxmax(axis=1)\n",
    "df_teste['acerto2_cat1'] = np.where(df_teste.category_secondary == df_teste.cat_pred2_cat1,1,0)\n",
    "df_teste.groupby('category_secondary')['acerto2_cat1'].mean()"
   ]
  },
  {
   "cell_type": "code",
   "execution_count": null,
   "metadata": {
    "ExecuteTime": {
     "end_time": "2022-05-22T12:22:09.371909Z",
     "start_time": "2022-05-22T12:22:09.285434Z"
    }
   },
   "outputs": [],
   "source": []
  },
  {
   "cell_type": "code",
   "execution_count": 37,
   "metadata": {
    "ExecuteTime": {
     "end_time": "2022-08-11T09:06:31.053136Z",
     "start_time": "2022-08-11T09:06:30.973792Z"
    }
   },
   "outputs": [
    {
     "name": "stdout",
     "output_type": "stream",
     "text": [
      "item_Clothing\n"
     ]
    },
    {
     "data": {
      "text/html": [
       "<div>\n",
       "<style scoped>\n",
       "    .dataframe tbody tr th:only-of-type {\n",
       "        vertical-align: middle;\n",
       "    }\n",
       "\n",
       "    .dataframe tbody tr th {\n",
       "        vertical-align: top;\n",
       "    }\n",
       "\n",
       "    .dataframe thead th {\n",
       "        text-align: right;\n",
       "    }\n",
       "</style>\n",
       "<table border=\"1\" class=\"dataframe\">\n",
       "  <thead>\n",
       "    <tr style=\"text-align: right;\">\n",
       "      <th></th>\n",
       "      <th>var</th>\n",
       "      <th>coef</th>\n",
       "    </tr>\n",
       "  </thead>\n",
       "  <tbody>\n",
       "    <tr>\n",
       "      <th>1992</th>\n",
       "      <td>sandal</td>\n",
       "      <td>-7.336023</td>\n",
       "    </tr>\n",
       "    <tr>\n",
       "      <th>155</th>\n",
       "      <td>pump</td>\n",
       "      <td>-7.123952</td>\n",
       "    </tr>\n",
       "    <tr>\n",
       "      <th>4505</th>\n",
       "      <td>earrings</td>\n",
       "      <td>-6.386924</td>\n",
       "    </tr>\n",
       "    <tr>\n",
       "      <th>5020</th>\n",
       "      <td>sneaker</td>\n",
       "      <td>-6.018714</td>\n",
       "    </tr>\n",
       "    <tr>\n",
       "      <th>7193</th>\n",
       "      <td>clog</td>\n",
       "      <td>-5.850106</td>\n",
       "    </tr>\n",
       "  </tbody>\n",
       "</table>\n",
       "</div>"
      ],
      "text/plain": [
       "           var      coef\n",
       "1992    sandal -7.336023\n",
       "155       pump -7.123952\n",
       "4505  earrings -6.386924\n",
       "5020   sneaker -6.018714\n",
       "7193      clog -5.850106"
      ]
     },
     "metadata": {},
     "output_type": "display_data"
    },
    {
     "data": {
      "text/html": [
       "<div>\n",
       "<style scoped>\n",
       "    .dataframe tbody tr th:only-of-type {\n",
       "        vertical-align: middle;\n",
       "    }\n",
       "\n",
       "    .dataframe tbody tr th {\n",
       "        vertical-align: top;\n",
       "    }\n",
       "\n",
       "    .dataframe thead th {\n",
       "        text-align: right;\n",
       "    }\n",
       "</style>\n",
       "<table border=\"1\" class=\"dataframe\">\n",
       "  <thead>\n",
       "    <tr style=\"text-align: right;\">\n",
       "      <th></th>\n",
       "      <th>var</th>\n",
       "      <th>coef</th>\n",
       "    </tr>\n",
       "  </thead>\n",
       "  <tbody>\n",
       "    <tr>\n",
       "      <th>1512</th>\n",
       "      <td>shorts</td>\n",
       "      <td>6.122742</td>\n",
       "    </tr>\n",
       "    <tr>\n",
       "      <th>5197</th>\n",
       "      <td>pant</td>\n",
       "      <td>5.287239</td>\n",
       "    </tr>\n",
       "    <tr>\n",
       "      <th>1960</th>\n",
       "      <td>shirt</td>\n",
       "      <td>5.206001</td>\n",
       "    </tr>\n",
       "    <tr>\n",
       "      <th>5069</th>\n",
       "      <td>tee</td>\n",
       "      <td>5.202492</td>\n",
       "    </tr>\n",
       "    <tr>\n",
       "      <th>5085</th>\n",
       "      <td>jean</td>\n",
       "      <td>5.037177</td>\n",
       "    </tr>\n",
       "  </tbody>\n",
       "</table>\n",
       "</div>"
      ],
      "text/plain": [
       "         var      coef\n",
       "1512  shorts  6.122742\n",
       "5197    pant  5.287239\n",
       "1960   shirt  5.206001\n",
       "5069     tee  5.202492\n",
       "5085    jean  5.037177"
      ]
     },
     "metadata": {},
     "output_type": "display_data"
    },
    {
     "name": "stdout",
     "output_type": "stream",
     "text": [
      "item_Jewelry\n"
     ]
    },
    {
     "data": {
      "text/html": [
       "<div>\n",
       "<style scoped>\n",
       "    .dataframe tbody tr th:only-of-type {\n",
       "        vertical-align: middle;\n",
       "    }\n",
       "\n",
       "    .dataframe tbody tr th {\n",
       "        vertical-align: top;\n",
       "    }\n",
       "\n",
       "    .dataframe thead th {\n",
       "        text-align: right;\n",
       "    }\n",
       "</style>\n",
       "<table border=\"1\" class=\"dataframe\">\n",
       "  <thead>\n",
       "    <tr style=\"text-align: right;\">\n",
       "      <th></th>\n",
       "      <th>var</th>\n",
       "      <th>coef</th>\n",
       "    </tr>\n",
       "  </thead>\n",
       "  <tbody>\n",
       "    <tr>\n",
       "      <th>5208</th>\n",
       "      <td>satchel</td>\n",
       "      <td>-4.953636</td>\n",
       "    </tr>\n",
       "    <tr>\n",
       "      <th>5649</th>\n",
       "      <td>boot</td>\n",
       "      <td>-4.797892</td>\n",
       "    </tr>\n",
       "    <tr>\n",
       "      <th>1960</th>\n",
       "      <td>shirt</td>\n",
       "      <td>-4.535490</td>\n",
       "    </tr>\n",
       "    <tr>\n",
       "      <th>3040</th>\n",
       "      <td>jacket</td>\n",
       "      <td>-4.508571</td>\n",
       "    </tr>\n",
       "    <tr>\n",
       "      <th>5681</th>\n",
       "      <td>hobo</td>\n",
       "      <td>-4.413881</td>\n",
       "    </tr>\n",
       "  </tbody>\n",
       "</table>\n",
       "</div>"
      ],
      "text/plain": [
       "          var      coef\n",
       "5208  satchel -4.953636\n",
       "5649     boot -4.797892\n",
       "1960    shirt -4.535490\n",
       "3040   jacket -4.508571\n",
       "5681     hobo -4.413881"
      ]
     },
     "metadata": {},
     "output_type": "display_data"
    },
    {
     "data": {
      "text/html": [
       "<div>\n",
       "<style scoped>\n",
       "    .dataframe tbody tr th:only-of-type {\n",
       "        vertical-align: middle;\n",
       "    }\n",
       "\n",
       "    .dataframe tbody tr th {\n",
       "        vertical-align: top;\n",
       "    }\n",
       "\n",
       "    .dataframe thead th {\n",
       "        text-align: right;\n",
       "    }\n",
       "</style>\n",
       "<table border=\"1\" class=\"dataframe\">\n",
       "  <thead>\n",
       "    <tr style=\"text-align: right;\">\n",
       "      <th></th>\n",
       "      <th>var</th>\n",
       "      <th>coef</th>\n",
       "    </tr>\n",
       "  </thead>\n",
       "  <tbody>\n",
       "    <tr>\n",
       "      <th>4505</th>\n",
       "      <td>earrings</td>\n",
       "      <td>7.399312</td>\n",
       "    </tr>\n",
       "    <tr>\n",
       "      <th>2183</th>\n",
       "      <td>watch</td>\n",
       "      <td>7.139663</td>\n",
       "    </tr>\n",
       "    <tr>\n",
       "      <th>2921</th>\n",
       "      <td>bracelet</td>\n",
       "      <td>6.281567</td>\n",
       "    </tr>\n",
       "    <tr>\n",
       "      <th>5711</th>\n",
       "      <td>necklace</td>\n",
       "      <td>5.280940</td>\n",
       "    </tr>\n",
       "    <tr>\n",
       "      <th>5798</th>\n",
       "      <td>ring</td>\n",
       "      <td>5.144433</td>\n",
       "    </tr>\n",
       "  </tbody>\n",
       "</table>\n",
       "</div>"
      ],
      "text/plain": [
       "           var      coef\n",
       "4505  earrings  7.399312\n",
       "2183     watch  7.139663\n",
       "2921  bracelet  6.281567\n",
       "5711  necklace  5.280940\n",
       "5798      ring  5.144433"
      ]
     },
     "metadata": {},
     "output_type": "display_data"
    },
    {
     "name": "stdout",
     "output_type": "stream",
     "text": [
      "item_Shoes\n"
     ]
    },
    {
     "data": {
      "text/html": [
       "<div>\n",
       "<style scoped>\n",
       "    .dataframe tbody tr th:only-of-type {\n",
       "        vertical-align: middle;\n",
       "    }\n",
       "\n",
       "    .dataframe tbody tr th {\n",
       "        vertical-align: top;\n",
       "    }\n",
       "\n",
       "    .dataframe thead th {\n",
       "        text-align: right;\n",
       "    }\n",
       "</style>\n",
       "<table border=\"1\" class=\"dataframe\">\n",
       "  <thead>\n",
       "    <tr style=\"text-align: right;\">\n",
       "      <th></th>\n",
       "      <th>var</th>\n",
       "      <th>coef</th>\n",
       "    </tr>\n",
       "  </thead>\n",
       "  <tbody>\n",
       "    <tr>\n",
       "      <th>5933</th>\n",
       "      <td>clips</td>\n",
       "      <td>-7.427112</td>\n",
       "    </tr>\n",
       "    <tr>\n",
       "      <th>4505</th>\n",
       "      <td>earrings</td>\n",
       "      <td>-7.384212</td>\n",
       "    </tr>\n",
       "    <tr>\n",
       "      <th>5711</th>\n",
       "      <td>necklace</td>\n",
       "      <td>-7.037166</td>\n",
       "    </tr>\n",
       "    <tr>\n",
       "      <th>1960</th>\n",
       "      <td>shirt</td>\n",
       "      <td>-6.741720</td>\n",
       "    </tr>\n",
       "    <tr>\n",
       "      <th>2183</th>\n",
       "      <td>watch</td>\n",
       "      <td>-5.781684</td>\n",
       "    </tr>\n",
       "  </tbody>\n",
       "</table>\n",
       "</div>"
      ],
      "text/plain": [
       "           var      coef\n",
       "5933     clips -7.427112\n",
       "4505  earrings -7.384212\n",
       "5711  necklace -7.037166\n",
       "1960     shirt -6.741720\n",
       "2183     watch -5.781684"
      ]
     },
     "metadata": {},
     "output_type": "display_data"
    },
    {
     "data": {
      "text/html": [
       "<div>\n",
       "<style scoped>\n",
       "    .dataframe tbody tr th:only-of-type {\n",
       "        vertical-align: middle;\n",
       "    }\n",
       "\n",
       "    .dataframe tbody tr th {\n",
       "        vertical-align: top;\n",
       "    }\n",
       "\n",
       "    .dataframe thead th {\n",
       "        text-align: right;\n",
       "    }\n",
       "</style>\n",
       "<table border=\"1\" class=\"dataframe\">\n",
       "  <thead>\n",
       "    <tr style=\"text-align: right;\">\n",
       "      <th></th>\n",
       "      <th>var</th>\n",
       "      <th>coef</th>\n",
       "    </tr>\n",
       "  </thead>\n",
       "  <tbody>\n",
       "    <tr>\n",
       "      <th>1992</th>\n",
       "      <td>sandal</td>\n",
       "      <td>6.740975</td>\n",
       "    </tr>\n",
       "    <tr>\n",
       "      <th>3286</th>\n",
       "      <td>sneakers</td>\n",
       "      <td>6.340676</td>\n",
       "    </tr>\n",
       "    <tr>\n",
       "      <th>5020</th>\n",
       "      <td>sneaker</td>\n",
       "      <td>6.140310</td>\n",
       "    </tr>\n",
       "    <tr>\n",
       "      <th>155</th>\n",
       "      <td>pump</td>\n",
       "      <td>6.048388</td>\n",
       "    </tr>\n",
       "    <tr>\n",
       "      <th>3900</th>\n",
       "      <td>sandals</td>\n",
       "      <td>5.886401</td>\n",
       "    </tr>\n",
       "  </tbody>\n",
       "</table>\n",
       "</div>"
      ],
      "text/plain": [
       "           var      coef\n",
       "1992    sandal  6.740975\n",
       "3286  sneakers  6.340676\n",
       "5020   sneaker  6.140310\n",
       "155       pump  6.048388\n",
       "3900   sandals  5.886401"
      ]
     },
     "metadata": {},
     "output_type": "display_data"
    }
   ],
   "source": [
    "for i in range(len(lista_cat)):\n",
    "    print(lista_cat[i])\n",
    "    mydf = pd.DataFrame(list(zip(list(matrix.get_feature_names()), list(lr_cat1[i].coef_[0]))), columns = ['var', 'coef'])\n",
    "    display(mydf.sort_values(by = 'coef', ascending = True).head(5))\n",
    "    display(mydf.sort_values(by = 'coef', ascending = False).head(5))"
   ]
  },
  {
   "cell_type": "markdown",
   "metadata": {},
   "source": [
    "#### Etapa 2 - categoria 2"
   ]
  },
  {
   "cell_type": "code",
   "execution_count": 38,
   "metadata": {
    "ExecuteTime": {
     "end_time": "2022-08-11T09:06:33.202203Z",
     "start_time": "2022-08-11T09:06:31.053136Z"
    }
   },
   "outputs": [
    {
     "name": "stdout",
     "output_type": "stream",
     "text": [
      "56445\n",
      "106738\n",
      "106738\n",
      "8714\n",
      "['item_Sport_Clothing' 'item_Accessories' 'item_Hunting']\n"
     ]
    }
   ],
   "source": [
    "df_treino_cat2 = df_treino[df_treino['category_main']=='Sports_and_Outdoors']\n",
    "df_teste_cat2 = df_teste[df_teste['category_main']=='Sports_and_Outdoors']\n",
    "\n",
    "X_treino_i = matrix.fit_transform(df_treino_cat2['title'])\n",
    "print(X_teste_i.shape[0])\n",
    "Y_treino_i =  df_treino_cat2['category_secondary']\n",
    "print(len(df_treino_cat2['title']))\n",
    "X_teste_i = matrix.fit_transform(df_treino_cat2['title'])\n",
    "print(X_teste_i.shape[0])\n",
    "Y_teste_i =  df_treino_cat2['category_secondary']\n",
    "#I =  df_all.index\n",
    "\n",
    "palavras = matrix.get_feature_names()\n",
    "print(len(palavras))\n",
    "\n",
    "lista_cat = Y_treino_i.unique()\n",
    "print(lista_cat)"
   ]
  },
  {
   "cell_type": "code",
   "execution_count": 39,
   "metadata": {
    "ExecuteTime": {
     "end_time": "2022-08-11T09:06:34.191612Z",
     "start_time": "2022-08-11T09:06:33.202203Z"
    }
   },
   "outputs": [
    {
     "name": "stdout",
     "output_type": "stream",
     "text": [
      "1 - item_Sport_Clothing\n",
      "      Acuracia: 95%\n",
      "2 - item_Accessories\n",
      "      Acuracia: 93%\n",
      "3 - item_Hunting\n",
      "      Acuracia: 95%\n"
     ]
    }
   ],
   "source": [
    "i = 0 \n",
    "lr_cat2 = []   \n",
    "y_treino = []\n",
    "y_teste = []\n",
    "y_pred = []\n",
    "\n",
    "for cat in lista_cat:\n",
    "\n",
    "    print(str(i+1)+' - '+cat)\n",
    "\n",
    "    y_treino.append(np.where(Y_treino_i == cat,1,0))\n",
    "    y_teste.append(np.where(Y_teste_i == cat,1,0))\n",
    "\n",
    "    lr_cat2.append(LogisticRegression(fit_intercept = False, C=0.5,penalty='l1',solver='liblinear'))#, 'saga',‘liblinear’))\n",
    "    lr_cat2[i].fit(X_treino_i,y_treino[i])\n",
    "    \n",
    "    #print('Rodou modelo')   \n",
    " \n",
    "    y_pred.append(lr_cat2[i].predict_proba(X_teste_i)[:,1])\n",
    "    \n",
    "    print('      Acuracia: ' + \"{0:.00%}\".format(1 - mean(abs(y_pred[i] - y_teste[i])))) \n",
    "    \n",
    "    i = i +1\n",
    "\n",
    "    #print ('------------------------------------------')"
   ]
  },
  {
   "cell_type": "code",
   "execution_count": 40,
   "metadata": {
    "ExecuteTime": {
     "end_time": "2022-08-11T09:06:34.847199Z",
     "start_time": "2022-08-11T09:06:34.191612Z"
    }
   },
   "outputs": [],
   "source": [
    "i =0\n",
    "X_teste_i = matrix.fit_transform(df_teste['title'])\n",
    "for cat in lista_cat:\n",
    "    df_teste[cat] = lr_cat2[i].predict_proba(X_teste_i)[:,1]\n",
    "    i = i +1\n",
    "    "
   ]
  },
  {
   "cell_type": "code",
   "execution_count": 41,
   "metadata": {
    "ExecuteTime": {
     "end_time": "2022-08-11T09:06:34.927295Z",
     "start_time": "2022-08-11T09:06:34.847199Z"
    }
   },
   "outputs": [
    {
     "data": {
      "text/plain": [
       "category_secondary\n",
       "item_Accessories       0.945790\n",
       "item_Clothing          0.000000\n",
       "item_Hunting           0.950439\n",
       "item_Jewelry           0.000000\n",
       "item_Shoes             0.000000\n",
       "item_Sport_Clothing    0.976627\n",
       "Name: acerto2_cat2, dtype: float64"
      ]
     },
     "execution_count": 41,
     "metadata": {},
     "output_type": "execute_result"
    }
   ],
   "source": [
    "df_teste['cat_pred2_cat2'] = df_teste[lista_cat].astype(float).idxmax(axis=1)\n",
    "df_teste['acerto2_cat2'] = np.where(df_teste.category_secondary == df_teste.cat_pred2_cat2,1,0)\n",
    "df_teste.groupby('category_secondary')['acerto2_cat2'].mean()"
   ]
  },
  {
   "cell_type": "code",
   "execution_count": 42,
   "metadata": {
    "ExecuteTime": {
     "end_time": "2022-08-11T09:06:35.006873Z",
     "start_time": "2022-08-11T09:06:34.927295Z"
    }
   },
   "outputs": [
    {
     "name": "stdout",
     "output_type": "stream",
     "text": [
      "item_Sport_Clothing\n"
     ]
    },
    {
     "data": {
      "text/html": [
       "<div>\n",
       "<style scoped>\n",
       "    .dataframe tbody tr th:only-of-type {\n",
       "        vertical-align: middle;\n",
       "    }\n",
       "\n",
       "    .dataframe tbody tr th {\n",
       "        vertical-align: top;\n",
       "    }\n",
       "\n",
       "    .dataframe thead th {\n",
       "        text-align: right;\n",
       "    }\n",
       "</style>\n",
       "<table border=\"1\" class=\"dataframe\">\n",
       "  <thead>\n",
       "    <tr style=\"text-align: right;\">\n",
       "      <th></th>\n",
       "      <th>var</th>\n",
       "      <th>coef</th>\n",
       "    </tr>\n",
       "  </thead>\n",
       "  <tbody>\n",
       "    <tr>\n",
       "      <th>6401</th>\n",
       "      <td>cgecko</td>\n",
       "      <td>-10.641133</td>\n",
       "    </tr>\n",
       "    <tr>\n",
       "      <th>3121</th>\n",
       "      <td>moda</td>\n",
       "      <td>-7.464258</td>\n",
       "    </tr>\n",
       "    <tr>\n",
       "      <th>2183</th>\n",
       "      <td>watch</td>\n",
       "      <td>-6.013881</td>\n",
       "    </tr>\n",
       "    <tr>\n",
       "      <th>7476</th>\n",
       "      <td>holster</td>\n",
       "      <td>-5.494253</td>\n",
       "    </tr>\n",
       "    <tr>\n",
       "      <th>6243</th>\n",
       "      <td>skinit</td>\n",
       "      <td>-4.954373</td>\n",
       "    </tr>\n",
       "  </tbody>\n",
       "</table>\n",
       "</div>"
      ],
      "text/plain": [
       "          var       coef\n",
       "6401   cgecko -10.641133\n",
       "3121     moda  -7.464258\n",
       "2183    watch  -6.013881\n",
       "7476  holster  -5.494253\n",
       "6243   skinit  -4.954373"
      ]
     },
     "metadata": {},
     "output_type": "display_data"
    },
    {
     "data": {
      "text/html": [
       "<div>\n",
       "<style scoped>\n",
       "    .dataframe tbody tr th:only-of-type {\n",
       "        vertical-align: middle;\n",
       "    }\n",
       "\n",
       "    .dataframe tbody tr th {\n",
       "        vertical-align: top;\n",
       "    }\n",
       "\n",
       "    .dataframe thead th {\n",
       "        text-align: right;\n",
       "    }\n",
       "</style>\n",
       "<table border=\"1\" class=\"dataframe\">\n",
       "  <thead>\n",
       "    <tr style=\"text-align: right;\">\n",
       "      <th></th>\n",
       "      <th>var</th>\n",
       "      <th>coef</th>\n",
       "    </tr>\n",
       "  </thead>\n",
       "  <tbody>\n",
       "    <tr>\n",
       "      <th>3248</th>\n",
       "      <td>sweatshirt</td>\n",
       "      <td>4.557114</td>\n",
       "    </tr>\n",
       "    <tr>\n",
       "      <th>1960</th>\n",
       "      <td>shirt</td>\n",
       "      <td>4.340422</td>\n",
       "    </tr>\n",
       "    <tr>\n",
       "      <th>2436</th>\n",
       "      <td>socks</td>\n",
       "      <td>4.101106</td>\n",
       "    </tr>\n",
       "    <tr>\n",
       "      <th>5043</th>\n",
       "      <td>jersey</td>\n",
       "      <td>3.916238</td>\n",
       "    </tr>\n",
       "    <tr>\n",
       "      <th>2073</th>\n",
       "      <td>leotard</td>\n",
       "      <td>3.894801</td>\n",
       "    </tr>\n",
       "  </tbody>\n",
       "</table>\n",
       "</div>"
      ],
      "text/plain": [
       "             var      coef\n",
       "3248  sweatshirt  4.557114\n",
       "1960       shirt  4.340422\n",
       "2436       socks  4.101106\n",
       "5043      jersey  3.916238\n",
       "2073     leotard  3.894801"
      ]
     },
     "metadata": {},
     "output_type": "display_data"
    },
    {
     "name": "stdout",
     "output_type": "stream",
     "text": [
      "item_Accessories\n"
     ]
    },
    {
     "data": {
      "text/html": [
       "<div>\n",
       "<style scoped>\n",
       "    .dataframe tbody tr th:only-of-type {\n",
       "        vertical-align: middle;\n",
       "    }\n",
       "\n",
       "    .dataframe tbody tr th {\n",
       "        vertical-align: top;\n",
       "    }\n",
       "\n",
       "    .dataframe thead th {\n",
       "        text-align: right;\n",
       "    }\n",
       "</style>\n",
       "<table border=\"1\" class=\"dataframe\">\n",
       "  <thead>\n",
       "    <tr style=\"text-align: right;\">\n",
       "      <th></th>\n",
       "      <th>var</th>\n",
       "      <th>coef</th>\n",
       "    </tr>\n",
       "  </thead>\n",
       "  <tbody>\n",
       "    <tr>\n",
       "      <th>1960</th>\n",
       "      <td>shirt</td>\n",
       "      <td>-5.415745</td>\n",
       "    </tr>\n",
       "    <tr>\n",
       "      <th>7476</th>\n",
       "      <td>holster</td>\n",
       "      <td>-5.295175</td>\n",
       "    </tr>\n",
       "    <tr>\n",
       "      <th>3248</th>\n",
       "      <td>sweatshirt</td>\n",
       "      <td>-5.061546</td>\n",
       "    </tr>\n",
       "    <tr>\n",
       "      <th>5197</th>\n",
       "      <td>pant</td>\n",
       "      <td>-4.436197</td>\n",
       "    </tr>\n",
       "    <tr>\n",
       "      <th>6840</th>\n",
       "      <td>knife</td>\n",
       "      <td>-4.329770</td>\n",
       "    </tr>\n",
       "  </tbody>\n",
       "</table>\n",
       "</div>"
      ],
      "text/plain": [
       "             var      coef\n",
       "1960       shirt -5.415745\n",
       "7476     holster -5.295175\n",
       "3248  sweatshirt -5.061546\n",
       "5197        pant -4.436197\n",
       "6840       knife -4.329770"
      ]
     },
     "metadata": {},
     "output_type": "display_data"
    },
    {
     "data": {
      "text/html": [
       "<div>\n",
       "<style scoped>\n",
       "    .dataframe tbody tr th:only-of-type {\n",
       "        vertical-align: middle;\n",
       "    }\n",
       "\n",
       "    .dataframe tbody tr th {\n",
       "        vertical-align: top;\n",
       "    }\n",
       "\n",
       "    .dataframe thead th {\n",
       "        text-align: right;\n",
       "    }\n",
       "</style>\n",
       "<table border=\"1\" class=\"dataframe\">\n",
       "  <thead>\n",
       "    <tr style=\"text-align: right;\">\n",
       "      <th></th>\n",
       "      <th>var</th>\n",
       "      <th>coef</th>\n",
       "    </tr>\n",
       "  </thead>\n",
       "  <tbody>\n",
       "    <tr>\n",
       "      <th>6401</th>\n",
       "      <td>cgecko</td>\n",
       "      <td>9.444451</td>\n",
       "    </tr>\n",
       "    <tr>\n",
       "      <th>3121</th>\n",
       "      <td>moda</td>\n",
       "      <td>7.607949</td>\n",
       "    </tr>\n",
       "    <tr>\n",
       "      <th>2183</th>\n",
       "      <td>watch</td>\n",
       "      <td>6.087452</td>\n",
       "    </tr>\n",
       "    <tr>\n",
       "      <th>1230</th>\n",
       "      <td>referee</td>\n",
       "      <td>5.190826</td>\n",
       "    </tr>\n",
       "    <tr>\n",
       "      <th>6579</th>\n",
       "      <td>decal</td>\n",
       "      <td>4.463944</td>\n",
       "    </tr>\n",
       "  </tbody>\n",
       "</table>\n",
       "</div>"
      ],
      "text/plain": [
       "          var      coef\n",
       "6401   cgecko  9.444451\n",
       "3121     moda  7.607949\n",
       "2183    watch  6.087452\n",
       "1230  referee  5.190826\n",
       "6579    decal  4.463944"
      ]
     },
     "metadata": {},
     "output_type": "display_data"
    },
    {
     "name": "stdout",
     "output_type": "stream",
     "text": [
      "item_Hunting\n"
     ]
    },
    {
     "data": {
      "text/html": [
       "<div>\n",
       "<style scoped>\n",
       "    .dataframe tbody tr th:only-of-type {\n",
       "        vertical-align: middle;\n",
       "    }\n",
       "\n",
       "    .dataframe tbody tr th {\n",
       "        vertical-align: top;\n",
       "    }\n",
       "\n",
       "    .dataframe thead th {\n",
       "        text-align: right;\n",
       "    }\n",
       "</style>\n",
       "<table border=\"1\" class=\"dataframe\">\n",
       "  <thead>\n",
       "    <tr style=\"text-align: right;\">\n",
       "      <th></th>\n",
       "      <th>var</th>\n",
       "      <th>coef</th>\n",
       "    </tr>\n",
       "  </thead>\n",
       "  <tbody>\n",
       "    <tr>\n",
       "      <th>5043</th>\n",
       "      <td>jersey</td>\n",
       "      <td>-5.433844</td>\n",
       "    </tr>\n",
       "    <tr>\n",
       "      <th>1512</th>\n",
       "      <td>shorts</td>\n",
       "      <td>-5.082437</td>\n",
       "    </tr>\n",
       "    <tr>\n",
       "      <th>7010</th>\n",
       "      <td>trampoline</td>\n",
       "      <td>-4.547059</td>\n",
       "    </tr>\n",
       "    <tr>\n",
       "      <th>4587</th>\n",
       "      <td>pedometer</td>\n",
       "      <td>-4.439543</td>\n",
       "    </tr>\n",
       "    <tr>\n",
       "      <th>1250</th>\n",
       "      <td>cue</td>\n",
       "      <td>-4.298297</td>\n",
       "    </tr>\n",
       "  </tbody>\n",
       "</table>\n",
       "</div>"
      ],
      "text/plain": [
       "             var      coef\n",
       "5043      jersey -5.433844\n",
       "1512      shorts -5.082437\n",
       "7010  trampoline -4.547059\n",
       "4587   pedometer -4.439543\n",
       "1250         cue -4.298297"
      ]
     },
     "metadata": {},
     "output_type": "display_data"
    },
    {
     "data": {
      "text/html": [
       "<div>\n",
       "<style scoped>\n",
       "    .dataframe tbody tr th:only-of-type {\n",
       "        vertical-align: middle;\n",
       "    }\n",
       "\n",
       "    .dataframe tbody tr th {\n",
       "        vertical-align: top;\n",
       "    }\n",
       "\n",
       "    .dataframe thead th {\n",
       "        text-align: right;\n",
       "    }\n",
       "</style>\n",
       "<table border=\"1\" class=\"dataframe\">\n",
       "  <thead>\n",
       "    <tr style=\"text-align: right;\">\n",
       "      <th></th>\n",
       "      <th>var</th>\n",
       "      <th>coef</th>\n",
       "    </tr>\n",
       "  </thead>\n",
       "  <tbody>\n",
       "    <tr>\n",
       "      <th>7476</th>\n",
       "      <td>holster</td>\n",
       "      <td>5.366142</td>\n",
       "    </tr>\n",
       "    <tr>\n",
       "      <th>1066</th>\n",
       "      <td>concealment</td>\n",
       "      <td>5.054055</td>\n",
       "    </tr>\n",
       "    <tr>\n",
       "      <th>528</th>\n",
       "      <td>wader</td>\n",
       "      <td>4.303696</td>\n",
       "    </tr>\n",
       "    <tr>\n",
       "      <th>2675</th>\n",
       "      <td>rcbs</td>\n",
       "      <td>4.256717</td>\n",
       "    </tr>\n",
       "    <tr>\n",
       "      <th>6583</th>\n",
       "      <td>fishing</td>\n",
       "      <td>4.204157</td>\n",
       "    </tr>\n",
       "  </tbody>\n",
       "</table>\n",
       "</div>"
      ],
      "text/plain": [
       "              var      coef\n",
       "7476      holster  5.366142\n",
       "1066  concealment  5.054055\n",
       "528         wader  4.303696\n",
       "2675         rcbs  4.256717\n",
       "6583      fishing  4.204157"
      ]
     },
     "metadata": {},
     "output_type": "display_data"
    }
   ],
   "source": [
    "for i in range(len(lista_cat)):\n",
    "    print(lista_cat[i])\n",
    "    mydf = pd.DataFrame(list(zip(list(matrix.get_feature_names()), list(lr_cat2[i].coef_[0]))), columns = ['var', 'coef'])\n",
    "    display(mydf.sort_values(by = 'coef', ascending = True).head(5))\n",
    "    display(mydf.sort_values(by = 'coef', ascending = False).head(5))"
   ]
  },
  {
   "cell_type": "markdown",
   "metadata": {},
   "source": [
    "#### Etapa 2 - JUnta"
   ]
  },
  {
   "cell_type": "code",
   "execution_count": 43,
   "metadata": {
    "ExecuteTime": {
     "end_time": "2022-08-11T09:06:35.063645Z",
     "start_time": "2022-08-11T09:06:35.006873Z"
    }
   },
   "outputs": [
    {
     "data": {
      "text/plain": [
       "category_secondary\n",
       "item_Accessories       0.916764\n",
       "item_Clothing          0.804974\n",
       "item_Hunting           0.939356\n",
       "item_Jewelry           0.962103\n",
       "item_Shoes             0.971341\n",
       "item_Sport_Clothing    0.839284\n",
       "Name: acerto2_fim, dtype: float64"
      ]
     },
     "execution_count": 43,
     "metadata": {},
     "output_type": "execute_result"
    }
   ],
   "source": [
    "df_teste_sumup = df_teste[['category_main', 'category_secondary'\n",
    "        , 'cat_pred1', 'acerto1'\n",
    "        , 'cat_pred2_cat1', 'acerto2_cat1'\n",
    "          , 'cat_pred2_cat2', 'acerto2_cat2']]\n",
    "\n",
    "df_teste_sumup['cat_pred2_fim'] = np.where(df_teste_sumup.cat_pred1 == 'Clothing_Shoes_and_Jewelry',df_teste_sumup.cat_pred2_cat1,df_teste_sumup.cat_pred2_cat2)\n",
    "df_teste_sumup['acerto2_fim'] = np.where(df_teste_sumup.category_secondary == df_teste_sumup.cat_pred2_fim,1,0)\n",
    "df_teste_sumup.groupby('category_secondary')['acerto2_fim'].mean()"
   ]
  }
 ],
 "metadata": {
  "hide_input": false,
  "kernelspec": {
   "display_name": "Python 3",
   "language": "python",
   "name": "python3"
  },
  "language_info": {
   "codemirror_mode": {
    "name": "ipython",
    "version": 3
   },
   "file_extension": ".py",
   "mimetype": "text/x-python",
   "name": "python",
   "nbconvert_exporter": "python",
   "pygments_lexer": "ipython3",
   "version": "3.8.8"
  },
  "toc": {
   "base_numbering": 1,
   "nav_menu": {},
   "number_sections": true,
   "sideBar": true,
   "skip_h1_title": false,
   "title_cell": "Table of Contents",
   "title_sidebar": "Contents",
   "toc_cell": false,
   "toc_position": {
    "height": "calc(100% - 180px)",
    "left": "10px",
    "top": "150px",
    "width": "337.797px"
   },
   "toc_section_display": true,
   "toc_window_display": true
  },
  "varInspector": {
   "cols": {
    "lenName": 16,
    "lenType": 16,
    "lenVar": 40
   },
   "kernels_config": {
    "python": {
     "delete_cmd_postfix": "",
     "delete_cmd_prefix": "del ",
     "library": "var_list.py",
     "varRefreshCmd": "print(var_dic_list())"
    },
    "r": {
     "delete_cmd_postfix": ") ",
     "delete_cmd_prefix": "rm(",
     "library": "var_list.r",
     "varRefreshCmd": "cat(var_dic_list()) "
    }
   },
   "types_to_exclude": [
    "module",
    "function",
    "builtin_function_or_method",
    "instance",
    "_Feature"
   ],
   "window_display": false
  }
 },
 "nbformat": 4,
 "nbformat_minor": 4
}
